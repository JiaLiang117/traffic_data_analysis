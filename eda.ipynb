{
 "cells": [
  {
   "cell_type": "markdown",
   "metadata": {},
   "source": [
    "Import packages, configure jupyter notebook"
   ]
  },
  {
   "cell_type": "code",
   "execution_count": 2,
   "metadata": {
    "collapsed": true
   },
   "outputs": [],
   "source": [
    "import pandas as pd\n",
    "import matplotlib.pyplot as plt\n",
    "from datetime import date, timedelta, datetime\n",
    "import seaborn as sns\n",
    "import warnings\n",
    "import numpy as np\n",
    "from sklearn.model_selection import train_test_split\n",
    "from sklearn.linear_model import LogisticRegression, LinearRegression\n",
    "from sklearn.metrics import mean_squared_error\n",
    "from math import sqrt\n",
    "plt.style.use('fivethirtyeight')\n",
    "%matplotlib inline\n",
    "%config InlineBackend.figure_format = 'retina'\n",
    "warnings.simplefilter(action='ignore', category=FutureWarning)\n"
   ]
  },
  {
   "cell_type": "markdown",
   "metadata": {},
   "source": [
    "Read in the data"
   ]
  },
  {
   "cell_type": "code",
   "execution_count": 93,
   "metadata": {
    "collapsed": true
   },
   "outputs": [],
   "source": [
    "data = pd.read_csv(\"https://aisgaiap.blob.core.windows.net/aiap5-assessment-data/traffic_data.csv\")"
   ]
  },
  {
   "cell_type": "markdown",
   "metadata": {},
   "source": [
    "basics EDA"
   ]
  },
  {
   "cell_type": "code",
   "execution_count": 94,
   "metadata": {},
   "outputs": [
    {
     "data": {
      "text/html": [
       "<div>\n",
       "<style scoped>\n",
       "    .dataframe tbody tr th:only-of-type {\n",
       "        vertical-align: middle;\n",
       "    }\n",
       "\n",
       "    .dataframe tbody tr th {\n",
       "        vertical-align: top;\n",
       "    }\n",
       "\n",
       "    .dataframe thead th {\n",
       "        text-align: right;\n",
       "    }\n",
       "</style>\n",
       "<table border=\"1\" class=\"dataframe\">\n",
       "  <thead>\n",
       "    <tr style=\"text-align: right;\">\n",
       "      <th></th>\n",
       "      <th>holiday</th>\n",
       "      <th>temp</th>\n",
       "      <th>rain_1h</th>\n",
       "      <th>snow_1h</th>\n",
       "      <th>clouds_all</th>\n",
       "      <th>weather_main</th>\n",
       "      <th>weather_description</th>\n",
       "      <th>date_time</th>\n",
       "      <th>traffic_volume</th>\n",
       "    </tr>\n",
       "  </thead>\n",
       "  <tbody>\n",
       "    <tr>\n",
       "      <td>0</td>\n",
       "      <td>New Years Day</td>\n",
       "      <td>263.49</td>\n",
       "      <td>0.0</td>\n",
       "      <td>0</td>\n",
       "      <td>58</td>\n",
       "      <td>Clouds</td>\n",
       "      <td>broken clouds</td>\n",
       "      <td>2013-01-01 00:00:00</td>\n",
       "      <td>1439</td>\n",
       "    </tr>\n",
       "    <tr>\n",
       "      <td>1</td>\n",
       "      <td>None</td>\n",
       "      <td>263.78</td>\n",
       "      <td>0.0</td>\n",
       "      <td>0</td>\n",
       "      <td>40</td>\n",
       "      <td>Clouds</td>\n",
       "      <td>scattered clouds</td>\n",
       "      <td>2013-01-01 01:00:00</td>\n",
       "      <td>1502</td>\n",
       "    </tr>\n",
       "    <tr>\n",
       "      <td>2</td>\n",
       "      <td>None</td>\n",
       "      <td>264.16</td>\n",
       "      <td>0.0</td>\n",
       "      <td>0</td>\n",
       "      <td>75</td>\n",
       "      <td>Snow</td>\n",
       "      <td>heavy snow</td>\n",
       "      <td>2013-01-01 02:00:00</td>\n",
       "      <td>933</td>\n",
       "    </tr>\n",
       "    <tr>\n",
       "      <td>3</td>\n",
       "      <td>None</td>\n",
       "      <td>263.95</td>\n",
       "      <td>0.0</td>\n",
       "      <td>0</td>\n",
       "      <td>90</td>\n",
       "      <td>Clouds</td>\n",
       "      <td>overcast clouds</td>\n",
       "      <td>2013-01-01 03:00:00</td>\n",
       "      <td>576</td>\n",
       "    </tr>\n",
       "    <tr>\n",
       "      <td>4</td>\n",
       "      <td>None</td>\n",
       "      <td>263.65</td>\n",
       "      <td>0.0</td>\n",
       "      <td>0</td>\n",
       "      <td>90</td>\n",
       "      <td>Clouds</td>\n",
       "      <td>overcast clouds</td>\n",
       "      <td>2013-01-01 04:00:00</td>\n",
       "      <td>372</td>\n",
       "    </tr>\n",
       "  </tbody>\n",
       "</table>\n",
       "</div>"
      ],
      "text/plain": [
       "         holiday    temp  rain_1h  snow_1h  clouds_all weather_main  \\\n",
       "0  New Years Day  263.49      0.0        0          58       Clouds   \n",
       "1           None  263.78      0.0        0          40       Clouds   \n",
       "2           None  264.16      0.0        0          75         Snow   \n",
       "3           None  263.95      0.0        0          90       Clouds   \n",
       "4           None  263.65      0.0        0          90       Clouds   \n",
       "\n",
       "  weather_description            date_time  traffic_volume  \n",
       "0       broken clouds  2013-01-01 00:00:00            1439  \n",
       "1    scattered clouds  2013-01-01 01:00:00            1502  \n",
       "2          heavy snow  2013-01-01 02:00:00             933  \n",
       "3     overcast clouds  2013-01-01 03:00:00             576  \n",
       "4     overcast clouds  2013-01-01 04:00:00             372  "
      ]
     },
     "execution_count": 94,
     "metadata": {},
     "output_type": "execute_result"
    }
   ],
   "source": [
    "data.head()"
   ]
  },
  {
   "cell_type": "code",
   "execution_count": 5,
   "metadata": {},
   "outputs": [
    {
     "name": "stdout",
     "output_type": "stream",
     "text": [
      "<class 'pandas.core.frame.DataFrame'>\n",
      "RangeIndex: 8573 entries, 0 to 8572\n",
      "Data columns (total 9 columns):\n",
      "holiday                8573 non-null object\n",
      "temp                   8573 non-null float64\n",
      "rain_1h                8573 non-null float64\n",
      "snow_1h                8573 non-null int64\n",
      "clouds_all             8573 non-null int64\n",
      "weather_main           8573 non-null object\n",
      "weather_description    8573 non-null object\n",
      "date_time              8573 non-null object\n",
      "traffic_volume         8573 non-null int64\n",
      "dtypes: float64(2), int64(3), object(4)\n",
      "memory usage: 602.9+ KB\n"
     ]
    }
   ],
   "source": [
    "data.info()"
   ]
  },
  {
   "cell_type": "markdown",
   "metadata": {},
   "source": [
    "data looks quite clean with no null values"
   ]
  },
  {
   "cell_type": "code",
   "execution_count": 6,
   "metadata": {},
   "outputs": [
    {
     "data": {
      "text/plain": [
       "holiday                  11\n",
       "temp                   3651\n",
       "rain_1h                  98\n",
       "snow_1h                   1\n",
       "clouds_all               50\n",
       "weather_main             10\n",
       "weather_description      33\n",
       "date_time              7294\n",
       "traffic_volume         4187\n",
       "dtype: int64"
      ]
     },
     "execution_count": 6,
     "metadata": {},
     "output_type": "execute_result"
    }
   ],
   "source": [
    "data.nunique()"
   ]
  },
  {
   "cell_type": "code",
   "execution_count": 7,
   "metadata": {},
   "outputs": [
    {
     "data": {
      "text/plain": [
       "0    8573\n",
       "Name: snow_1h, dtype: int64"
      ]
     },
     "execution_count": 7,
     "metadata": {},
     "output_type": "execute_result"
    }
   ],
   "source": [
    "data[\"snow_1h\"].value_counts()"
   ]
  },
  {
   "cell_type": "markdown",
   "metadata": {},
   "source": [
    "there appears to be no snow, let's check if the temperature is too high for snow"
   ]
  },
  {
   "cell_type": "code",
   "execution_count": 8,
   "metadata": {
    "collapsed": true
   },
   "outputs": [],
   "source": [
    "def kelvin_to_celcius(kelvin):\n",
    "    return kelvin-273.15"
   ]
  },
  {
   "cell_type": "code",
   "execution_count": 9,
   "metadata": {
    "collapsed": true
   },
   "outputs": [],
   "source": [
    "data[\"temp_celcius\"] = data[\"temp\"].apply(kelvin_to_celcius)"
   ]
  },
  {
   "cell_type": "code",
   "execution_count": 10,
   "metadata": {
    "collapsed": true
   },
   "outputs": [],
   "source": [
    "data.drop(\"temp\", axis=1, inplace=True)"
   ]
  },
  {
   "cell_type": "code",
   "execution_count": 11,
   "metadata": {},
   "outputs": [
    {
     "data": {
      "text/plain": [
       "-28.329999999999984"
      ]
     },
     "execution_count": 11,
     "metadata": {},
     "output_type": "execute_result"
    }
   ],
   "source": [
    "data[\"temp_celcius\"].min()"
   ]
  },
  {
   "cell_type": "code",
   "execution_count": 12,
   "metadata": {},
   "outputs": [
    {
     "data": {
      "text/plain": [
       "35.09000000000003"
      ]
     },
     "execution_count": 12,
     "metadata": {},
     "output_type": "execute_result"
    }
   ],
   "source": [
    "data[\"temp_celcius\"].max()"
   ]
  },
  {
   "cell_type": "code",
   "execution_count": 13,
   "metadata": {},
   "outputs": [
    {
     "data": {
      "text/plain": [
       "<matplotlib.axes._subplots.AxesSubplot at 0x10285aba8>"
      ]
     },
     "execution_count": 13,
     "metadata": {},
     "output_type": "execute_result"
    },
    {
     "data": {
      "image/png": "[encoded data removed]",
      "text/plain": [
       "<matplotlib.figure.Figure at 0x10285a550>"
      ]
     },
     "metadata": {
      "image/png": {
       "height": 244,
       "width": 412
      }
     },
     "output_type": "display_data"
    }
   ],
   "source": [
    "data[\"temp_celcius\"].hist(bins=30)"
   ]
  },
  {
   "cell_type": "markdown",
   "metadata": {},
   "source": [
    "there appears to be negative temperatures, but still now snow. Nonetheless the column is not very important because has no variance"
   ]
  },
  {
   "cell_type": "code",
   "execution_count": 14,
   "metadata": {
    "collapsed": true
   },
   "outputs": [],
   "source": [
    "data = data.drop([\"snow_1h\"], axis=1)"
   ]
  },
  {
   "cell_type": "code",
   "execution_count": 15,
   "metadata": {},
   "outputs": [
    {
     "data": {
      "text/html": [
       "<div>\n",
       "<style scoped>\n",
       "    .dataframe tbody tr th:only-of-type {\n",
       "        vertical-align: middle;\n",
       "    }\n",
       "\n",
       "    .dataframe tbody tr th {\n",
       "        vertical-align: top;\n",
       "    }\n",
       "\n",
       "    .dataframe thead th {\n",
       "        text-align: right;\n",
       "    }\n",
       "</style>\n",
       "<table border=\"1\" class=\"dataframe\">\n",
       "  <thead>\n",
       "    <tr style=\"text-align: right;\">\n",
       "      <th></th>\n",
       "      <th>holiday</th>\n",
       "      <th>rain_1h</th>\n",
       "      <th>clouds_all</th>\n",
       "      <th>weather_main</th>\n",
       "      <th>weather_description</th>\n",
       "      <th>date_time</th>\n",
       "      <th>traffic_volume</th>\n",
       "      <th>temp_celcius</th>\n",
       "    </tr>\n",
       "  </thead>\n",
       "  <tbody>\n",
       "    <tr>\n",
       "      <td>0</td>\n",
       "      <td>New Years Day</td>\n",
       "      <td>0.0</td>\n",
       "      <td>58</td>\n",
       "      <td>Clouds</td>\n",
       "      <td>broken clouds</td>\n",
       "      <td>2013-01-01 00:00:00</td>\n",
       "      <td>1439</td>\n",
       "      <td>-9.66</td>\n",
       "    </tr>\n",
       "    <tr>\n",
       "      <td>1</td>\n",
       "      <td>None</td>\n",
       "      <td>0.0</td>\n",
       "      <td>40</td>\n",
       "      <td>Clouds</td>\n",
       "      <td>scattered clouds</td>\n",
       "      <td>2013-01-01 01:00:00</td>\n",
       "      <td>1502</td>\n",
       "      <td>-9.37</td>\n",
       "    </tr>\n",
       "    <tr>\n",
       "      <td>2</td>\n",
       "      <td>None</td>\n",
       "      <td>0.0</td>\n",
       "      <td>75</td>\n",
       "      <td>Snow</td>\n",
       "      <td>heavy snow</td>\n",
       "      <td>2013-01-01 02:00:00</td>\n",
       "      <td>933</td>\n",
       "      <td>-8.99</td>\n",
       "    </tr>\n",
       "    <tr>\n",
       "      <td>3</td>\n",
       "      <td>None</td>\n",
       "      <td>0.0</td>\n",
       "      <td>90</td>\n",
       "      <td>Clouds</td>\n",
       "      <td>overcast clouds</td>\n",
       "      <td>2013-01-01 03:00:00</td>\n",
       "      <td>576</td>\n",
       "      <td>-9.20</td>\n",
       "    </tr>\n",
       "    <tr>\n",
       "      <td>4</td>\n",
       "      <td>None</td>\n",
       "      <td>0.0</td>\n",
       "      <td>90</td>\n",
       "      <td>Clouds</td>\n",
       "      <td>overcast clouds</td>\n",
       "      <td>2013-01-01 04:00:00</td>\n",
       "      <td>372</td>\n",
       "      <td>-9.50</td>\n",
       "    </tr>\n",
       "  </tbody>\n",
       "</table>\n",
       "</div>"
      ],
      "text/plain": [
       "         holiday  rain_1h  clouds_all weather_main weather_description  \\\n",
       "0  New Years Day      0.0          58       Clouds       broken clouds   \n",
       "1           None      0.0          40       Clouds    scattered clouds   \n",
       "2           None      0.0          75         Snow          heavy snow   \n",
       "3           None      0.0          90       Clouds     overcast clouds   \n",
       "4           None      0.0          90       Clouds     overcast clouds   \n",
       "\n",
       "             date_time  traffic_volume  temp_celcius  \n",
       "0  2013-01-01 00:00:00            1439         -9.66  \n",
       "1  2013-01-01 01:00:00            1502         -9.37  \n",
       "2  2013-01-01 02:00:00             933         -8.99  \n",
       "3  2013-01-01 03:00:00             576         -9.20  \n",
       "4  2013-01-01 04:00:00             372         -9.50  "
      ]
     },
     "execution_count": 15,
     "metadata": {},
     "output_type": "execute_result"
    }
   ],
   "source": [
    "data.head()"
   ]
  },
  {
   "cell_type": "markdown",
   "metadata": {},
   "source": [
    "Lets investigate the data_time column"
   ]
  },
  {
   "cell_type": "code",
   "execution_count": 16,
   "metadata": {
    "collapsed": true
   },
   "outputs": [],
   "source": [
    "data[\"date_time\"] = pd.to_datetime(data[\"date_time\"])"
   ]
  },
  {
   "cell_type": "code",
   "execution_count": 17,
   "metadata": {},
   "outputs": [
    {
     "data": {
      "text/plain": [
       "Timestamp('2013-01-01 00:00:00')"
      ]
     },
     "execution_count": 17,
     "metadata": {},
     "output_type": "execute_result"
    }
   ],
   "source": [
    "data[\"date_time\"].min()"
   ]
  },
  {
   "cell_type": "code",
   "execution_count": 18,
   "metadata": {},
   "outputs": [
    {
     "data": {
      "text/plain": [
       "Timestamp('2013-12-31 23:00:00')"
      ]
     },
     "execution_count": 18,
     "metadata": {},
     "output_type": "execute_result"
    }
   ],
   "source": [
    "data[\"date_time\"].max()"
   ]
  },
  {
   "cell_type": "markdown",
   "metadata": {},
   "source": [
    "looks like we have 1 year of data"
   ]
  },
  {
   "cell_type": "code",
   "execution_count": 19,
   "metadata": {
    "collapsed": true
   },
   "outputs": [],
   "source": [
    "data[\"date\"] = data[\"date_time\"].apply(lambda x: datetime.strftime(x,\"%Y-%m-%d\"))\n",
    "data[\"time\"] = data[\"date_time\"].apply(lambda x: datetime.strftime(x,\"%H:%M\"))"
   ]
  },
  {
   "cell_type": "code",
   "execution_count": 20,
   "metadata": {},
   "outputs": [
    {
     "data": {
      "text/plain": [
       "2013-04-19    60\n",
       "2013-12-03    56\n",
       "2013-02-11    53\n",
       "2013-04-12    52\n",
       "2013-05-19    52\n",
       "              ..\n",
       "2013-10-01     2\n",
       "2013-10-27     1\n",
       "2013-09-01     1\n",
       "2013-01-29     1\n",
       "2013-08-31     1\n",
       "Name: date, Length: 356, dtype: int64"
      ]
     },
     "execution_count": 20,
     "metadata": {},
     "output_type": "execute_result"
    }
   ],
   "source": [
    "data[\"date\"].value_counts()"
   ]
  },
  {
   "cell_type": "markdown",
   "metadata": {},
   "source": [
    "looks like we have some missing days, not 365 for 2013"
   ]
  },
  {
   "cell_type": "code",
   "execution_count": 21,
   "metadata": {
    "collapsed": true
   },
   "outputs": [],
   "source": [
    "def get_all_dates(start, end):\n",
    "\n",
    "    sdate = datetime.strptime(start,\"%Y-%m-%d\")   # start date\n",
    "    edate = datetime.strptime(end,\"%Y-%m-%d\")   # end date\n",
    "\n",
    "    delta = edate - sdate       # as timedelta\n",
    "\n",
    "    for i in range(delta.days + 1):\n",
    "        day = sdate + timedelta(days=i)\n",
    "        yield(day.strftime(\"%Y-%m-%d\"))"
   ]
  },
  {
   "cell_type": "markdown",
   "metadata": {},
   "source": [
    "lets find the missing dates"
   ]
  },
  {
   "cell_type": "code",
   "execution_count": 22,
   "metadata": {
    "collapsed": true
   },
   "outputs": [],
   "source": [
    "all_dates_in_2013 = list(get_all_dates(\"2013-01-01\",\"2013-12-31\"))"
   ]
  },
  {
   "cell_type": "code",
   "execution_count": 23,
   "metadata": {
    "collapsed": true
   },
   "outputs": [],
   "source": [
    "all_dates = list(data[\"date\"].unique())"
   ]
  },
  {
   "cell_type": "code",
   "execution_count": 24,
   "metadata": {
    "collapsed": true
   },
   "outputs": [],
   "source": [
    "missing_dates = [x for x in all_dates_in_2013 if x not in all_dates]"
   ]
  },
  {
   "cell_type": "code",
   "execution_count": 25,
   "metadata": {},
   "outputs": [
    {
     "data": {
      "text/plain": [
       "['2013-10-28',\n",
       " '2013-10-29',\n",
       " '2013-10-30',\n",
       " '2013-10-31',\n",
       " '2013-11-01',\n",
       " '2013-11-02',\n",
       " '2013-11-03',\n",
       " '2013-11-04',\n",
       " '2013-11-05']"
      ]
     },
     "execution_count": 25,
     "metadata": {},
     "output_type": "execute_result"
    }
   ],
   "source": [
    "missing_dates"
   ]
  },
  {
   "cell_type": "markdown",
   "metadata": {},
   "source": [
    "looks like we have a bunch of data in end of oct to start of nov (9 days)"
   ]
  },
  {
   "cell_type": "code",
   "execution_count": 26,
   "metadata": {
    "collapsed": true
   },
   "outputs": [],
   "source": [
    "date_unique_time = data[[\"date\",\"time\"]].drop_duplicates().groupby(\"date\").count()"
   ]
  },
  {
   "cell_type": "code",
   "execution_count": 27,
   "metadata": {},
   "outputs": [
    {
     "data": {
      "text/plain": [
       "24    135\n",
       "23     59\n",
       "22     37\n",
       "21     18\n",
       "15     13\n",
       "17     12\n",
       "20     10\n",
       "19      9\n",
       "18      9\n",
       "16      9\n",
       "12      9\n",
       "14      7\n",
       "11      5\n",
       "1       5\n",
       "13      4\n",
       "10      3\n",
       "9       3\n",
       "8       3\n",
       "6       3\n",
       "7       1\n",
       "3       1\n",
       "2       1\n",
       "Name: time, dtype: int64"
      ]
     },
     "execution_count": 27,
     "metadata": {},
     "output_type": "execute_result"
    }
   ],
   "source": [
    "date_unique_time[\"time\"].value_counts()"
   ]
  },
  {
   "cell_type": "code",
   "execution_count": 28,
   "metadata": {},
   "outputs": [
    {
     "data": {
      "text/plain": [
       "221"
      ]
     },
     "execution_count": 28,
     "metadata": {},
     "output_type": "execute_result"
    }
   ],
   "source": [
    "date_unique_time[\"time\"].value_counts().sum()-135"
   ]
  },
  {
   "cell_type": "markdown",
   "metadata": {},
   "source": [
    "data is not very complete, with quite a number of dates (221) without complete data"
   ]
  },
  {
   "cell_type": "code",
   "execution_count": 29,
   "metadata": {
    "collapsed": true
   },
   "outputs": [],
   "source": [
    "datetime_count = data.groupby(\"date_time\").count()"
   ]
  },
  {
   "cell_type": "code",
   "execution_count": 30,
   "metadata": {
    "collapsed": true
   },
   "outputs": [],
   "source": [
    "datetime_count = datetime_count.sort_values(\"holiday\",ascending=False).reset_index()"
   ]
  },
  {
   "cell_type": "code",
   "execution_count": 31,
   "metadata": {},
   "outputs": [
    {
     "data": {
      "text/html": [
       "<div>\n",
       "<style scoped>\n",
       "    .dataframe tbody tr th:only-of-type {\n",
       "        vertical-align: middle;\n",
       "    }\n",
       "\n",
       "    .dataframe tbody tr th {\n",
       "        vertical-align: top;\n",
       "    }\n",
       "\n",
       "    .dataframe thead th {\n",
       "        text-align: right;\n",
       "    }\n",
       "</style>\n",
       "<table border=\"1\" class=\"dataframe\">\n",
       "  <thead>\n",
       "    <tr style=\"text-align: right;\">\n",
       "      <th></th>\n",
       "      <th>date_time</th>\n",
       "      <th>holiday</th>\n",
       "      <th>rain_1h</th>\n",
       "      <th>clouds_all</th>\n",
       "      <th>weather_main</th>\n",
       "      <th>weather_description</th>\n",
       "      <th>traffic_volume</th>\n",
       "      <th>temp_celcius</th>\n",
       "      <th>date</th>\n",
       "      <th>time</th>\n",
       "    </tr>\n",
       "  </thead>\n",
       "  <tbody>\n",
       "    <tr>\n",
       "      <td>0</td>\n",
       "      <td>2013-05-19 10:00:00</td>\n",
       "      <td>6</td>\n",
       "      <td>6</td>\n",
       "      <td>6</td>\n",
       "      <td>6</td>\n",
       "      <td>6</td>\n",
       "      <td>6</td>\n",
       "      <td>6</td>\n",
       "      <td>6</td>\n",
       "      <td>6</td>\n",
       "    </tr>\n",
       "    <tr>\n",
       "      <td>1</td>\n",
       "      <td>2013-04-18 22:00:00</td>\n",
       "      <td>6</td>\n",
       "      <td>6</td>\n",
       "      <td>6</td>\n",
       "      <td>6</td>\n",
       "      <td>6</td>\n",
       "      <td>6</td>\n",
       "      <td>6</td>\n",
       "      <td>6</td>\n",
       "      <td>6</td>\n",
       "    </tr>\n",
       "    <tr>\n",
       "      <td>2</td>\n",
       "      <td>2013-12-16 10:00:00</td>\n",
       "      <td>5</td>\n",
       "      <td>5</td>\n",
       "      <td>5</td>\n",
       "      <td>5</td>\n",
       "      <td>5</td>\n",
       "      <td>5</td>\n",
       "      <td>5</td>\n",
       "      <td>5</td>\n",
       "      <td>5</td>\n",
       "    </tr>\n",
       "    <tr>\n",
       "      <td>3</td>\n",
       "      <td>2013-04-22 19:00:00</td>\n",
       "      <td>5</td>\n",
       "      <td>5</td>\n",
       "      <td>5</td>\n",
       "      <td>5</td>\n",
       "      <td>5</td>\n",
       "      <td>5</td>\n",
       "      <td>5</td>\n",
       "      <td>5</td>\n",
       "      <td>5</td>\n",
       "    </tr>\n",
       "    <tr>\n",
       "      <td>4</td>\n",
       "      <td>2013-05-20 17:00:00</td>\n",
       "      <td>5</td>\n",
       "      <td>5</td>\n",
       "      <td>5</td>\n",
       "      <td>5</td>\n",
       "      <td>5</td>\n",
       "      <td>5</td>\n",
       "      <td>5</td>\n",
       "      <td>5</td>\n",
       "      <td>5</td>\n",
       "    </tr>\n",
       "    <tr>\n",
       "      <td>...</td>\n",
       "      <td>...</td>\n",
       "      <td>...</td>\n",
       "      <td>...</td>\n",
       "      <td>...</td>\n",
       "      <td>...</td>\n",
       "      <td>...</td>\n",
       "      <td>...</td>\n",
       "      <td>...</td>\n",
       "      <td>...</td>\n",
       "      <td>...</td>\n",
       "    </tr>\n",
       "    <tr>\n",
       "      <td>7289</td>\n",
       "      <td>2013-05-06 02:00:00</td>\n",
       "      <td>1</td>\n",
       "      <td>1</td>\n",
       "      <td>1</td>\n",
       "      <td>1</td>\n",
       "      <td>1</td>\n",
       "      <td>1</td>\n",
       "      <td>1</td>\n",
       "      <td>1</td>\n",
       "      <td>1</td>\n",
       "    </tr>\n",
       "    <tr>\n",
       "      <td>7290</td>\n",
       "      <td>2013-05-06 01:00:00</td>\n",
       "      <td>1</td>\n",
       "      <td>1</td>\n",
       "      <td>1</td>\n",
       "      <td>1</td>\n",
       "      <td>1</td>\n",
       "      <td>1</td>\n",
       "      <td>1</td>\n",
       "      <td>1</td>\n",
       "      <td>1</td>\n",
       "    </tr>\n",
       "    <tr>\n",
       "      <td>7291</td>\n",
       "      <td>2013-05-06 00:00:00</td>\n",
       "      <td>1</td>\n",
       "      <td>1</td>\n",
       "      <td>1</td>\n",
       "      <td>1</td>\n",
       "      <td>1</td>\n",
       "      <td>1</td>\n",
       "      <td>1</td>\n",
       "      <td>1</td>\n",
       "      <td>1</td>\n",
       "    </tr>\n",
       "    <tr>\n",
       "      <td>7292</td>\n",
       "      <td>2013-05-05 23:00:00</td>\n",
       "      <td>1</td>\n",
       "      <td>1</td>\n",
       "      <td>1</td>\n",
       "      <td>1</td>\n",
       "      <td>1</td>\n",
       "      <td>1</td>\n",
       "      <td>1</td>\n",
       "      <td>1</td>\n",
       "      <td>1</td>\n",
       "    </tr>\n",
       "    <tr>\n",
       "      <td>7293</td>\n",
       "      <td>2013-12-31 23:00:00</td>\n",
       "      <td>1</td>\n",
       "      <td>1</td>\n",
       "      <td>1</td>\n",
       "      <td>1</td>\n",
       "      <td>1</td>\n",
       "      <td>1</td>\n",
       "      <td>1</td>\n",
       "      <td>1</td>\n",
       "      <td>1</td>\n",
       "    </tr>\n",
       "  </tbody>\n",
       "</table>\n",
       "<p>7294 rows × 10 columns</p>\n",
       "</div>"
      ],
      "text/plain": [
       "               date_time  holiday  rain_1h  clouds_all  weather_main  \\\n",
       "0    2013-05-19 10:00:00        6        6           6             6   \n",
       "1    2013-04-18 22:00:00        6        6           6             6   \n",
       "2    2013-12-16 10:00:00        5        5           5             5   \n",
       "3    2013-04-22 19:00:00        5        5           5             5   \n",
       "4    2013-05-20 17:00:00        5        5           5             5   \n",
       "...                  ...      ...      ...         ...           ...   \n",
       "7289 2013-05-06 02:00:00        1        1           1             1   \n",
       "7290 2013-05-06 01:00:00        1        1           1             1   \n",
       "7291 2013-05-06 00:00:00        1        1           1             1   \n",
       "7292 2013-05-05 23:00:00        1        1           1             1   \n",
       "7293 2013-12-31 23:00:00        1        1           1             1   \n",
       "\n",
       "      weather_description  traffic_volume  temp_celcius  date  time  \n",
       "0                       6               6             6     6     6  \n",
       "1                       6               6             6     6     6  \n",
       "2                       5               5             5     5     5  \n",
       "3                       5               5             5     5     5  \n",
       "4                       5               5             5     5     5  \n",
       "...                   ...             ...           ...   ...   ...  \n",
       "7289                    1               1             1     1     1  \n",
       "7290                    1               1             1     1     1  \n",
       "7291                    1               1             1     1     1  \n",
       "7292                    1               1             1     1     1  \n",
       "7293                    1               1             1     1     1  \n",
       "\n",
       "[7294 rows x 10 columns]"
      ]
     },
     "execution_count": 31,
     "metadata": {},
     "output_type": "execute_result"
    }
   ],
   "source": [
    "datetime_count"
   ]
  },
  {
   "cell_type": "markdown",
   "metadata": {},
   "source": [
    "lets check out the dates with mulitpled datetime"
   ]
  },
  {
   "cell_type": "code",
   "execution_count": 32,
   "metadata": {},
   "outputs": [
    {
     "data": {
      "text/html": [
       "<div>\n",
       "<style scoped>\n",
       "    .dataframe tbody tr th:only-of-type {\n",
       "        vertical-align: middle;\n",
       "    }\n",
       "\n",
       "    .dataframe tbody tr th {\n",
       "        vertical-align: top;\n",
       "    }\n",
       "\n",
       "    .dataframe thead th {\n",
       "        text-align: right;\n",
       "    }\n",
       "</style>\n",
       "<table border=\"1\" class=\"dataframe\">\n",
       "  <thead>\n",
       "    <tr style=\"text-align: right;\">\n",
       "      <th></th>\n",
       "      <th>date_time</th>\n",
       "      <th>holiday</th>\n",
       "      <th>rain_1h</th>\n",
       "      <th>clouds_all</th>\n",
       "      <th>weather_main</th>\n",
       "      <th>weather_description</th>\n",
       "      <th>traffic_volume</th>\n",
       "      <th>temp_celcius</th>\n",
       "      <th>date</th>\n",
       "      <th>time</th>\n",
       "    </tr>\n",
       "  </thead>\n",
       "  <tbody>\n",
       "    <tr>\n",
       "      <td>0</td>\n",
       "      <td>2013-05-19 10:00:00</td>\n",
       "      <td>6</td>\n",
       "      <td>6</td>\n",
       "      <td>6</td>\n",
       "      <td>6</td>\n",
       "      <td>6</td>\n",
       "      <td>6</td>\n",
       "      <td>6</td>\n",
       "      <td>6</td>\n",
       "      <td>6</td>\n",
       "    </tr>\n",
       "    <tr>\n",
       "      <td>1</td>\n",
       "      <td>2013-04-18 22:00:00</td>\n",
       "      <td>6</td>\n",
       "      <td>6</td>\n",
       "      <td>6</td>\n",
       "      <td>6</td>\n",
       "      <td>6</td>\n",
       "      <td>6</td>\n",
       "      <td>6</td>\n",
       "      <td>6</td>\n",
       "      <td>6</td>\n",
       "    </tr>\n",
       "    <tr>\n",
       "      <td>2</td>\n",
       "      <td>2013-12-16 10:00:00</td>\n",
       "      <td>5</td>\n",
       "      <td>5</td>\n",
       "      <td>5</td>\n",
       "      <td>5</td>\n",
       "      <td>5</td>\n",
       "      <td>5</td>\n",
       "      <td>5</td>\n",
       "      <td>5</td>\n",
       "      <td>5</td>\n",
       "    </tr>\n",
       "    <tr>\n",
       "      <td>3</td>\n",
       "      <td>2013-04-22 19:00:00</td>\n",
       "      <td>5</td>\n",
       "      <td>5</td>\n",
       "      <td>5</td>\n",
       "      <td>5</td>\n",
       "      <td>5</td>\n",
       "      <td>5</td>\n",
       "      <td>5</td>\n",
       "      <td>5</td>\n",
       "      <td>5</td>\n",
       "    </tr>\n",
       "    <tr>\n",
       "      <td>4</td>\n",
       "      <td>2013-05-20 17:00:00</td>\n",
       "      <td>5</td>\n",
       "      <td>5</td>\n",
       "      <td>5</td>\n",
       "      <td>5</td>\n",
       "      <td>5</td>\n",
       "      <td>5</td>\n",
       "      <td>5</td>\n",
       "      <td>5</td>\n",
       "      <td>5</td>\n",
       "    </tr>\n",
       "    <tr>\n",
       "      <td>...</td>\n",
       "      <td>...</td>\n",
       "      <td>...</td>\n",
       "      <td>...</td>\n",
       "      <td>...</td>\n",
       "      <td>...</td>\n",
       "      <td>...</td>\n",
       "      <td>...</td>\n",
       "      <td>...</td>\n",
       "      <td>...</td>\n",
       "      <td>...</td>\n",
       "    </tr>\n",
       "    <tr>\n",
       "      <td>869</td>\n",
       "      <td>2013-06-11 12:00:00</td>\n",
       "      <td>2</td>\n",
       "      <td>2</td>\n",
       "      <td>2</td>\n",
       "      <td>2</td>\n",
       "      <td>2</td>\n",
       "      <td>2</td>\n",
       "      <td>2</td>\n",
       "      <td>2</td>\n",
       "      <td>2</td>\n",
       "    </tr>\n",
       "    <tr>\n",
       "      <td>870</td>\n",
       "      <td>2013-06-11 11:00:00</td>\n",
       "      <td>2</td>\n",
       "      <td>2</td>\n",
       "      <td>2</td>\n",
       "      <td>2</td>\n",
       "      <td>2</td>\n",
       "      <td>2</td>\n",
       "      <td>2</td>\n",
       "      <td>2</td>\n",
       "      <td>2</td>\n",
       "    </tr>\n",
       "    <tr>\n",
       "      <td>871</td>\n",
       "      <td>2013-12-10 04:00:00</td>\n",
       "      <td>2</td>\n",
       "      <td>2</td>\n",
       "      <td>2</td>\n",
       "      <td>2</td>\n",
       "      <td>2</td>\n",
       "      <td>2</td>\n",
       "      <td>2</td>\n",
       "      <td>2</td>\n",
       "      <td>2</td>\n",
       "    </tr>\n",
       "    <tr>\n",
       "      <td>872</td>\n",
       "      <td>2013-06-11 08:00:00</td>\n",
       "      <td>2</td>\n",
       "      <td>2</td>\n",
       "      <td>2</td>\n",
       "      <td>2</td>\n",
       "      <td>2</td>\n",
       "      <td>2</td>\n",
       "      <td>2</td>\n",
       "      <td>2</td>\n",
       "      <td>2</td>\n",
       "    </tr>\n",
       "    <tr>\n",
       "      <td>873</td>\n",
       "      <td>2013-06-11 07:00:00</td>\n",
       "      <td>2</td>\n",
       "      <td>2</td>\n",
       "      <td>2</td>\n",
       "      <td>2</td>\n",
       "      <td>2</td>\n",
       "      <td>2</td>\n",
       "      <td>2</td>\n",
       "      <td>2</td>\n",
       "      <td>2</td>\n",
       "    </tr>\n",
       "  </tbody>\n",
       "</table>\n",
       "<p>874 rows × 10 columns</p>\n",
       "</div>"
      ],
      "text/plain": [
       "              date_time  holiday  rain_1h  clouds_all  weather_main  \\\n",
       "0   2013-05-19 10:00:00        6        6           6             6   \n",
       "1   2013-04-18 22:00:00        6        6           6             6   \n",
       "2   2013-12-16 10:00:00        5        5           5             5   \n",
       "3   2013-04-22 19:00:00        5        5           5             5   \n",
       "4   2013-05-20 17:00:00        5        5           5             5   \n",
       "..                  ...      ...      ...         ...           ...   \n",
       "869 2013-06-11 12:00:00        2        2           2             2   \n",
       "870 2013-06-11 11:00:00        2        2           2             2   \n",
       "871 2013-12-10 04:00:00        2        2           2             2   \n",
       "872 2013-06-11 08:00:00        2        2           2             2   \n",
       "873 2013-06-11 07:00:00        2        2           2             2   \n",
       "\n",
       "     weather_description  traffic_volume  temp_celcius  date  time  \n",
       "0                      6               6             6     6     6  \n",
       "1                      6               6             6     6     6  \n",
       "2                      5               5             5     5     5  \n",
       "3                      5               5             5     5     5  \n",
       "4                      5               5             5     5     5  \n",
       "..                   ...             ...           ...   ...   ...  \n",
       "869                    2               2             2     2     2  \n",
       "870                    2               2             2     2     2  \n",
       "871                    2               2             2     2     2  \n",
       "872                    2               2             2     2     2  \n",
       "873                    2               2             2     2     2  \n",
       "\n",
       "[874 rows x 10 columns]"
      ]
     },
     "execution_count": 32,
     "metadata": {},
     "output_type": "execute_result"
    }
   ],
   "source": [
    "datetime_count[datetime_count[\"holiday\"]>1]"
   ]
  },
  {
   "cell_type": "markdown",
   "metadata": {},
   "source": [
    "about 874 records have repeated date_time"
   ]
  },
  {
   "cell_type": "code",
   "execution_count": 33,
   "metadata": {
    "collapsed": true
   },
   "outputs": [],
   "source": [
    "repeated_datetime = list(datetime_count[datetime_count[\"holiday\"]>1][\"date_time\"])"
   ]
  },
  {
   "cell_type": "code",
   "execution_count": 34,
   "metadata": {
    "collapsed": true
   },
   "outputs": [],
   "source": [
    "repeated_records = data[data[\"date_time\"].isin(repeated_datetime)]"
   ]
  },
  {
   "cell_type": "code",
   "execution_count": 35,
   "metadata": {},
   "outputs": [
    {
     "data": {
      "text/html": [
       "<div>\n",
       "<style scoped>\n",
       "    .dataframe tbody tr th:only-of-type {\n",
       "        vertical-align: middle;\n",
       "    }\n",
       "\n",
       "    .dataframe tbody tr th {\n",
       "        vertical-align: top;\n",
       "    }\n",
       "\n",
       "    .dataframe thead th {\n",
       "        text-align: right;\n",
       "    }\n",
       "</style>\n",
       "<table border=\"1\" class=\"dataframe\">\n",
       "  <thead>\n",
       "    <tr style=\"text-align: right;\">\n",
       "      <th></th>\n",
       "      <th>holiday</th>\n",
       "      <th>rain_1h</th>\n",
       "      <th>clouds_all</th>\n",
       "      <th>weather_main</th>\n",
       "      <th>weather_description</th>\n",
       "      <th>date_time</th>\n",
       "      <th>traffic_volume</th>\n",
       "      <th>temp_celcius</th>\n",
       "      <th>date</th>\n",
       "      <th>time</th>\n",
       "    </tr>\n",
       "  </thead>\n",
       "  <tbody>\n",
       "    <tr>\n",
       "      <td>39</td>\n",
       "      <td>None</td>\n",
       "      <td>0.00</td>\n",
       "      <td>90</td>\n",
       "      <td>Snow</td>\n",
       "      <td>heavy snow</td>\n",
       "      <td>2013-01-02 15:00:00</td>\n",
       "      <td>4836</td>\n",
       "      <td>-11.54</td>\n",
       "      <td>2013-01-02</td>\n",
       "      <td>15:00</td>\n",
       "    </tr>\n",
       "    <tr>\n",
       "      <td>40</td>\n",
       "      <td>None</td>\n",
       "      <td>0.00</td>\n",
       "      <td>90</td>\n",
       "      <td>Mist</td>\n",
       "      <td>mist</td>\n",
       "      <td>2013-01-02 15:00:00</td>\n",
       "      <td>4836</td>\n",
       "      <td>-11.54</td>\n",
       "      <td>2013-01-02</td>\n",
       "      <td>15:00</td>\n",
       "    </tr>\n",
       "    <tr>\n",
       "      <td>41</td>\n",
       "      <td>None</td>\n",
       "      <td>0.00</td>\n",
       "      <td>90</td>\n",
       "      <td>Snow</td>\n",
       "      <td>heavy snow</td>\n",
       "      <td>2013-01-02 16:00:00</td>\n",
       "      <td>5597</td>\n",
       "      <td>-10.97</td>\n",
       "      <td>2013-01-02</td>\n",
       "      <td>16:00</td>\n",
       "    </tr>\n",
       "    <tr>\n",
       "      <td>42</td>\n",
       "      <td>None</td>\n",
       "      <td>0.00</td>\n",
       "      <td>90</td>\n",
       "      <td>Haze</td>\n",
       "      <td>haze</td>\n",
       "      <td>2013-01-02 16:00:00</td>\n",
       "      <td>5597</td>\n",
       "      <td>-10.97</td>\n",
       "      <td>2013-01-02</td>\n",
       "      <td>16:00</td>\n",
       "    </tr>\n",
       "    <tr>\n",
       "      <td>43</td>\n",
       "      <td>None</td>\n",
       "      <td>0.00</td>\n",
       "      <td>90</td>\n",
       "      <td>Snow</td>\n",
       "      <td>heavy snow</td>\n",
       "      <td>2013-01-02 17:00:00</td>\n",
       "      <td>5191</td>\n",
       "      <td>-10.61</td>\n",
       "      <td>2013-01-02</td>\n",
       "      <td>17:00</td>\n",
       "    </tr>\n",
       "    <tr>\n",
       "      <td>...</td>\n",
       "      <td>...</td>\n",
       "      <td>...</td>\n",
       "      <td>...</td>\n",
       "      <td>...</td>\n",
       "      <td>...</td>\n",
       "      <td>...</td>\n",
       "      <td>...</td>\n",
       "      <td>...</td>\n",
       "      <td>...</td>\n",
       "      <td>...</td>\n",
       "    </tr>\n",
       "    <tr>\n",
       "      <td>8534</td>\n",
       "      <td>None</td>\n",
       "      <td>0.00</td>\n",
       "      <td>90</td>\n",
       "      <td>Haze</td>\n",
       "      <td>haze</td>\n",
       "      <td>2013-12-30 10:00:00</td>\n",
       "      <td>3793</td>\n",
       "      <td>-19.81</td>\n",
       "      <td>2013-12-30</td>\n",
       "      <td>10:00</td>\n",
       "    </tr>\n",
       "    <tr>\n",
       "      <td>8539</td>\n",
       "      <td>None</td>\n",
       "      <td>0.76</td>\n",
       "      <td>90</td>\n",
       "      <td>Rain</td>\n",
       "      <td>light rain</td>\n",
       "      <td>2013-12-30 15:00:00</td>\n",
       "      <td>4233</td>\n",
       "      <td>-17.14</td>\n",
       "      <td>2013-12-30</td>\n",
       "      <td>15:00</td>\n",
       "    </tr>\n",
       "    <tr>\n",
       "      <td>8540</td>\n",
       "      <td>None</td>\n",
       "      <td>0.76</td>\n",
       "      <td>90</td>\n",
       "      <td>Snow</td>\n",
       "      <td>light snow</td>\n",
       "      <td>2013-12-30 15:00:00</td>\n",
       "      <td>4233</td>\n",
       "      <td>-17.14</td>\n",
       "      <td>2013-12-30</td>\n",
       "      <td>15:00</td>\n",
       "    </tr>\n",
       "    <tr>\n",
       "      <td>8541</td>\n",
       "      <td>None</td>\n",
       "      <td>0.25</td>\n",
       "      <td>90</td>\n",
       "      <td>Rain</td>\n",
       "      <td>light rain</td>\n",
       "      <td>2013-12-30 16:00:00</td>\n",
       "      <td>3938</td>\n",
       "      <td>-17.34</td>\n",
       "      <td>2013-12-30</td>\n",
       "      <td>16:00</td>\n",
       "    </tr>\n",
       "    <tr>\n",
       "      <td>8542</td>\n",
       "      <td>None</td>\n",
       "      <td>0.25</td>\n",
       "      <td>90</td>\n",
       "      <td>Snow</td>\n",
       "      <td>light snow</td>\n",
       "      <td>2013-12-30 16:00:00</td>\n",
       "      <td>3938</td>\n",
       "      <td>-17.34</td>\n",
       "      <td>2013-12-30</td>\n",
       "      <td>16:00</td>\n",
       "    </tr>\n",
       "  </tbody>\n",
       "</table>\n",
       "<p>2153 rows × 10 columns</p>\n",
       "</div>"
      ],
      "text/plain": [
       "     holiday  rain_1h  clouds_all weather_main weather_description  \\\n",
       "39      None     0.00          90         Snow          heavy snow   \n",
       "40      None     0.00          90         Mist                mist   \n",
       "41      None     0.00          90         Snow          heavy snow   \n",
       "42      None     0.00          90         Haze                haze   \n",
       "43      None     0.00          90         Snow          heavy snow   \n",
       "...      ...      ...         ...          ...                 ...   \n",
       "8534    None     0.00          90         Haze                haze   \n",
       "8539    None     0.76          90         Rain          light rain   \n",
       "8540    None     0.76          90         Snow          light snow   \n",
       "8541    None     0.25          90         Rain          light rain   \n",
       "8542    None     0.25          90         Snow          light snow   \n",
       "\n",
       "               date_time  traffic_volume  temp_celcius        date   time  \n",
       "39   2013-01-02 15:00:00            4836        -11.54  2013-01-02  15:00  \n",
       "40   2013-01-02 15:00:00            4836        -11.54  2013-01-02  15:00  \n",
       "41   2013-01-02 16:00:00            5597        -10.97  2013-01-02  16:00  \n",
       "42   2013-01-02 16:00:00            5597        -10.97  2013-01-02  16:00  \n",
       "43   2013-01-02 17:00:00            5191        -10.61  2013-01-02  17:00  \n",
       "...                  ...             ...           ...         ...    ...  \n",
       "8534 2013-12-30 10:00:00            3793        -19.81  2013-12-30  10:00  \n",
       "8539 2013-12-30 15:00:00            4233        -17.14  2013-12-30  15:00  \n",
       "8540 2013-12-30 15:00:00            4233        -17.14  2013-12-30  15:00  \n",
       "8541 2013-12-30 16:00:00            3938        -17.34  2013-12-30  16:00  \n",
       "8542 2013-12-30 16:00:00            3938        -17.34  2013-12-30  16:00  \n",
       "\n",
       "[2153 rows x 10 columns]"
      ]
     },
     "execution_count": 35,
     "metadata": {},
     "output_type": "execute_result"
    }
   ],
   "source": [
    "repeated_records"
   ]
  },
  {
   "cell_type": "markdown",
   "metadata": {},
   "source": [
    "Not sure why there are mulitiple records for the same time (about 25% of all the records). They dont appear to be pure duplicates, but it's worth noting for further investigations later"
   ]
  },
  {
   "cell_type": "markdown",
   "metadata": {},
   "source": [
    "Lets investigate the non-numeric columns, holiday, weather_main, weather_description"
   ]
  },
  {
   "cell_type": "code",
   "execution_count": 36,
   "metadata": {
    "collapsed": true
   },
   "outputs": [],
   "source": [
    "non_numeric_columns = [\"holiday\", \"weather_main\", \"weather_description\"]"
   ]
  },
  {
   "cell_type": "code",
   "execution_count": 37,
   "metadata": {
    "collapsed": true
   },
   "outputs": [],
   "source": [
    "non_numeric_data = data[non_numeric_columns]"
   ]
  },
  {
   "cell_type": "code",
   "execution_count": 38,
   "metadata": {},
   "outputs": [
    {
     "data": {
      "text/plain": [
       "None                    8563\n",
       "Thanksgiving Day           1\n",
       "Veterans Day               1\n",
       "Independence Day           1\n",
       "New Years Day              1\n",
       "Memorial Day               1\n",
       "State Fair                 1\n",
       "Christmas Day              1\n",
       "Columbus Day               1\n",
       "Labor Day                  1\n",
       "Washingtons Birthday       1\n",
       "Name: holiday, dtype: int64"
      ]
     },
     "execution_count": 38,
     "metadata": {},
     "output_type": "execute_result"
    }
   ],
   "source": [
    "non_numeric_data[\"holiday\"].value_counts()"
   ]
  },
  {
   "cell_type": "markdown",
   "metadata": {},
   "source": [
    "seems like mostly None, which we can convert to np.na, when building our models"
   ]
  },
  {
   "cell_type": "code",
   "execution_count": 39,
   "metadata": {},
   "outputs": [
    {
     "data": {
      "text/plain": [
       "Clouds          3136\n",
       "Clear           2169\n",
       "Mist            1034\n",
       "Rain             889\n",
       "Snow             674\n",
       "Drizzle          230\n",
       "Haze             201\n",
       "Fog              123\n",
       "Thunderstorm     114\n",
       "Squall             3\n",
       "Name: weather_main, dtype: int64"
      ]
     },
     "execution_count": 39,
     "metadata": {},
     "output_type": "execute_result"
    }
   ],
   "source": [
    "non_numeric_data[\"weather_main\"].value_counts()"
   ]
  },
  {
   "cell_type": "markdown",
   "metadata": {},
   "source": [
    "pretty good distribution of the data"
   ]
  },
  {
   "cell_type": "code",
   "execution_count": 40,
   "metadata": {},
   "outputs": [
    {
     "data": {
      "text/plain": [
       "sky is clear                           1494\n",
       "broken clouds                          1194\n",
       "overcast clouds                        1070\n",
       "mist                                   1034\n",
       "Sky is Clear                            675\n",
       "light rain                              617\n",
       "scattered clouds                        518\n",
       "heavy snow                              397\n",
       "few clouds                              354\n",
       "moderate rain                           205\n",
       "light snow                              202\n",
       "haze                                    201\n",
       "light intensity drizzle                 145\n",
       "fog                                     123\n",
       "drizzle                                  75\n",
       "snow                                     71\n",
       "proximity thunderstorm                   59\n",
       "heavy intensity rain                     56\n",
       "thunderstorm with heavy rain             17\n",
       "thunderstorm with light rain             13\n",
       "heavy intensity drizzle                  10\n",
       "proximity thunderstorm with rain          9\n",
       "very heavy rain                           8\n",
       "thunderstorm                              7\n",
       "thunderstorm with rain                    5\n",
       "SQUALLS                                   3\n",
       "light rain and snow                       3\n",
       "light intensity shower rain               2\n",
       "proximity thunderstorm with drizzle       2\n",
       "thunderstorm with light drizzle           1\n",
       "thunderstorm with drizzle                 1\n",
       "shower snow                               1\n",
       "freezing rain                             1\n",
       "Name: weather_description, dtype: int64"
      ]
     },
     "execution_count": 40,
     "metadata": {},
     "output_type": "execute_result"
    }
   ],
   "source": [
    "non_numeric_data[\"weather_description\"].value_counts()"
   ]
  },
  {
   "cell_type": "markdown",
   "metadata": {},
   "source": [
    "seems like there are too many combinations, not sure how useful this data would be for building models, without implementing indepth nlp, i will be dropping this column as well"
   ]
  },
  {
   "cell_type": "code",
   "execution_count": 41,
   "metadata": {
    "collapsed": true
   },
   "outputs": [],
   "source": [
    "data.drop(\"weather_description\", axis=1, inplace=True)"
   ]
  },
  {
   "cell_type": "code",
   "execution_count": 42,
   "metadata": {},
   "outputs": [
    {
     "data": {
      "text/html": [
       "<div>\n",
       "<style scoped>\n",
       "    .dataframe tbody tr th:only-of-type {\n",
       "        vertical-align: middle;\n",
       "    }\n",
       "\n",
       "    .dataframe tbody tr th {\n",
       "        vertical-align: top;\n",
       "    }\n",
       "\n",
       "    .dataframe thead th {\n",
       "        text-align: right;\n",
       "    }\n",
       "</style>\n",
       "<table border=\"1\" class=\"dataframe\">\n",
       "  <thead>\n",
       "    <tr style=\"text-align: right;\">\n",
       "      <th></th>\n",
       "      <th>holiday</th>\n",
       "      <th>rain_1h</th>\n",
       "      <th>clouds_all</th>\n",
       "      <th>weather_main</th>\n",
       "      <th>date_time</th>\n",
       "      <th>traffic_volume</th>\n",
       "      <th>temp_celcius</th>\n",
       "      <th>date</th>\n",
       "      <th>time</th>\n",
       "    </tr>\n",
       "  </thead>\n",
       "  <tbody>\n",
       "    <tr>\n",
       "      <td>0</td>\n",
       "      <td>New Years Day</td>\n",
       "      <td>0.0</td>\n",
       "      <td>58</td>\n",
       "      <td>Clouds</td>\n",
       "      <td>2013-01-01 00:00:00</td>\n",
       "      <td>1439</td>\n",
       "      <td>-9.66</td>\n",
       "      <td>2013-01-01</td>\n",
       "      <td>00:00</td>\n",
       "    </tr>\n",
       "    <tr>\n",
       "      <td>1</td>\n",
       "      <td>None</td>\n",
       "      <td>0.0</td>\n",
       "      <td>40</td>\n",
       "      <td>Clouds</td>\n",
       "      <td>2013-01-01 01:00:00</td>\n",
       "      <td>1502</td>\n",
       "      <td>-9.37</td>\n",
       "      <td>2013-01-01</td>\n",
       "      <td>01:00</td>\n",
       "    </tr>\n",
       "    <tr>\n",
       "      <td>2</td>\n",
       "      <td>None</td>\n",
       "      <td>0.0</td>\n",
       "      <td>75</td>\n",
       "      <td>Snow</td>\n",
       "      <td>2013-01-01 02:00:00</td>\n",
       "      <td>933</td>\n",
       "      <td>-8.99</td>\n",
       "      <td>2013-01-01</td>\n",
       "      <td>02:00</td>\n",
       "    </tr>\n",
       "    <tr>\n",
       "      <td>3</td>\n",
       "      <td>None</td>\n",
       "      <td>0.0</td>\n",
       "      <td>90</td>\n",
       "      <td>Clouds</td>\n",
       "      <td>2013-01-01 03:00:00</td>\n",
       "      <td>576</td>\n",
       "      <td>-9.20</td>\n",
       "      <td>2013-01-01</td>\n",
       "      <td>03:00</td>\n",
       "    </tr>\n",
       "    <tr>\n",
       "      <td>4</td>\n",
       "      <td>None</td>\n",
       "      <td>0.0</td>\n",
       "      <td>90</td>\n",
       "      <td>Clouds</td>\n",
       "      <td>2013-01-01 04:00:00</td>\n",
       "      <td>372</td>\n",
       "      <td>-9.50</td>\n",
       "      <td>2013-01-01</td>\n",
       "      <td>04:00</td>\n",
       "    </tr>\n",
       "  </tbody>\n",
       "</table>\n",
       "</div>"
      ],
      "text/plain": [
       "         holiday  rain_1h  clouds_all weather_main           date_time  \\\n",
       "0  New Years Day      0.0          58       Clouds 2013-01-01 00:00:00   \n",
       "1           None      0.0          40       Clouds 2013-01-01 01:00:00   \n",
       "2           None      0.0          75         Snow 2013-01-01 02:00:00   \n",
       "3           None      0.0          90       Clouds 2013-01-01 03:00:00   \n",
       "4           None      0.0          90       Clouds 2013-01-01 04:00:00   \n",
       "\n",
       "   traffic_volume  temp_celcius        date   time  \n",
       "0            1439         -9.66  2013-01-01  00:00  \n",
       "1            1502         -9.37  2013-01-01  01:00  \n",
       "2             933         -8.99  2013-01-01  02:00  \n",
       "3             576         -9.20  2013-01-01  03:00  \n",
       "4             372         -9.50  2013-01-01  04:00  "
      ]
     },
     "execution_count": 42,
     "metadata": {},
     "output_type": "execute_result"
    }
   ],
   "source": [
    "data.head()"
   ]
  },
  {
   "cell_type": "markdown",
   "metadata": {},
   "source": [
    "lets plot temperature againste date, we expect the temperature to be related to the seasons"
   ]
  },
  {
   "cell_type": "code",
   "execution_count": 43,
   "metadata": {},
   "outputs": [
    {
     "data": {
      "image/png": "[encoded data removed]",
      "text/plain": [
       "<matplotlib.figure.Figure at 0x1028947b8>"
      ]
     },
     "metadata": {
      "image/png": {
       "height": 277,
       "width": 435
      }
     },
     "output_type": "display_data"
    }
   ],
   "source": [
    "plot_temp_date = data[[\"temp_celcius\",\"date\"]].groupby(\"date\").mean()\n",
    "plot_temp_date.reset_index(inplace=True)\n",
    "plot_temp_date[\"date\"] = pd.to_datetime(plot_temp_date[\"date\"])\n",
    "plt.title(\"Temperature against date\")\n",
    "plt.xlabel(\"date\")\n",
    "plt.ylabel(\"temperature / Celcius\")\n",
    "plt.bar(plot_temp_date[\"date\"], plot_temp_date[\"temp_celcius\"], color=\"blue\")\n",
    "plt.show()"
   ]
  },
  {
   "cell_type": "code",
   "execution_count": 44,
   "metadata": {},
   "outputs": [
    {
     "name": "stderr",
     "output_type": "stream",
     "text": [
      "/Users/jialianglow/anaconda3/lib/python3.6/site-packages/ipykernel_launcher.py:2: SettingWithCopyWarning: \n",
      "A value is trying to be set on a copy of a slice from a DataFrame.\n",
      "Try using .loc[row_indexer,col_indexer] = value instead\n",
      "\n",
      "See the caveats in the documentation: http://pandas.pydata.org/pandas-docs/stable/user_guide/indexing.html#returning-a-view-versus-a-copy\n",
      "  \n",
      "/Users/jialianglow/anaconda3/lib/python3.6/site-packages/ipykernel_launcher.py:3: SettingWithCopyWarning: \n",
      "A value is trying to be set on a copy of a slice from a DataFrame.\n",
      "Try using .loc[row_indexer,col_indexer] = value instead\n",
      "\n",
      "See the caveats in the documentation: http://pandas.pydata.org/pandas-docs/stable/user_guide/indexing.html#returning-a-view-versus-a-copy\n",
      "  This is separate from the ipykernel package so we can avoid doing imports until\n"
     ]
    },
    {
     "data": {
      "image/png": "[encoded data removed]",
      "text/plain": [
       "<matplotlib.figure.Figure at 0x1a138b6b38>"
      ]
     },
     "metadata": {
      "image/png": {
       "height": 277,
       "width": 430
      }
     },
     "output_type": "display_data"
    }
   ],
   "source": [
    "plot_temp_date = data[[\"temp_celcius\",\"date\"]]\n",
    "plot_temp_date[\"date\"] = pd.to_datetime(plot_temp_date[\"date\"])\n",
    "plot_temp_date[\"month\"] = plot_temp_date[\"date\"].apply(lambda x : x.month)\n",
    "plot_temp_date = plot_temp_date[[\"month\",\"temp_celcius\"]].groupby(\"month\").mean()\n",
    "plot_temp_date.reset_index(inplace=True)\n",
    "plt.title(\"Temperature against date\")\n",
    "plt.xlabel(\"month\")\n",
    "plt.ylabel(\"temperature / Celcius\")\n",
    "plt.bar(plot_temp_date[\"month\"], plot_temp_date[\"temp_celcius\"], color=\"blue\")\n",
    "plt.show()"
   ]
  },
  {
   "cell_type": "markdown",
   "metadata": {},
   "source": [
    "seems pretty clear it's northern hemisphere city"
   ]
  },
  {
   "cell_type": "markdown",
   "metadata": {},
   "source": [
    "lets plot temperature againste time, we expect the temperature to be related to the time"
   ]
  },
  {
   "cell_type": "code",
   "execution_count": 45,
   "metadata": {},
   "outputs": [
    {
     "data": {
      "text/html": [
       "<div>\n",
       "<style scoped>\n",
       "    .dataframe tbody tr th:only-of-type {\n",
       "        vertical-align: middle;\n",
       "    }\n",
       "\n",
       "    .dataframe tbody tr th {\n",
       "        vertical-align: top;\n",
       "    }\n",
       "\n",
       "    .dataframe thead th {\n",
       "        text-align: right;\n",
       "    }\n",
       "</style>\n",
       "<table border=\"1\" class=\"dataframe\">\n",
       "  <thead>\n",
       "    <tr style=\"text-align: right;\">\n",
       "      <th></th>\n",
       "      <th>holiday</th>\n",
       "      <th>rain_1h</th>\n",
       "      <th>clouds_all</th>\n",
       "      <th>weather_main</th>\n",
       "      <th>date_time</th>\n",
       "      <th>traffic_volume</th>\n",
       "      <th>temp_celcius</th>\n",
       "      <th>date</th>\n",
       "      <th>time</th>\n",
       "    </tr>\n",
       "  </thead>\n",
       "  <tbody>\n",
       "    <tr>\n",
       "      <td>0</td>\n",
       "      <td>New Years Day</td>\n",
       "      <td>0.0</td>\n",
       "      <td>58</td>\n",
       "      <td>Clouds</td>\n",
       "      <td>2013-01-01 00:00:00</td>\n",
       "      <td>1439</td>\n",
       "      <td>-9.66</td>\n",
       "      <td>2013-01-01</td>\n",
       "      <td>00:00</td>\n",
       "    </tr>\n",
       "    <tr>\n",
       "      <td>1</td>\n",
       "      <td>None</td>\n",
       "      <td>0.0</td>\n",
       "      <td>40</td>\n",
       "      <td>Clouds</td>\n",
       "      <td>2013-01-01 01:00:00</td>\n",
       "      <td>1502</td>\n",
       "      <td>-9.37</td>\n",
       "      <td>2013-01-01</td>\n",
       "      <td>01:00</td>\n",
       "    </tr>\n",
       "    <tr>\n",
       "      <td>2</td>\n",
       "      <td>None</td>\n",
       "      <td>0.0</td>\n",
       "      <td>75</td>\n",
       "      <td>Snow</td>\n",
       "      <td>2013-01-01 02:00:00</td>\n",
       "      <td>933</td>\n",
       "      <td>-8.99</td>\n",
       "      <td>2013-01-01</td>\n",
       "      <td>02:00</td>\n",
       "    </tr>\n",
       "    <tr>\n",
       "      <td>3</td>\n",
       "      <td>None</td>\n",
       "      <td>0.0</td>\n",
       "      <td>90</td>\n",
       "      <td>Clouds</td>\n",
       "      <td>2013-01-01 03:00:00</td>\n",
       "      <td>576</td>\n",
       "      <td>-9.20</td>\n",
       "      <td>2013-01-01</td>\n",
       "      <td>03:00</td>\n",
       "    </tr>\n",
       "    <tr>\n",
       "      <td>4</td>\n",
       "      <td>None</td>\n",
       "      <td>0.0</td>\n",
       "      <td>90</td>\n",
       "      <td>Clouds</td>\n",
       "      <td>2013-01-01 04:00:00</td>\n",
       "      <td>372</td>\n",
       "      <td>-9.50</td>\n",
       "      <td>2013-01-01</td>\n",
       "      <td>04:00</td>\n",
       "    </tr>\n",
       "  </tbody>\n",
       "</table>\n",
       "</div>"
      ],
      "text/plain": [
       "         holiday  rain_1h  clouds_all weather_main           date_time  \\\n",
       "0  New Years Day      0.0          58       Clouds 2013-01-01 00:00:00   \n",
       "1           None      0.0          40       Clouds 2013-01-01 01:00:00   \n",
       "2           None      0.0          75         Snow 2013-01-01 02:00:00   \n",
       "3           None      0.0          90       Clouds 2013-01-01 03:00:00   \n",
       "4           None      0.0          90       Clouds 2013-01-01 04:00:00   \n",
       "\n",
       "   traffic_volume  temp_celcius        date   time  \n",
       "0            1439         -9.66  2013-01-01  00:00  \n",
       "1            1502         -9.37  2013-01-01  01:00  \n",
       "2             933         -8.99  2013-01-01  02:00  \n",
       "3             576         -9.20  2013-01-01  03:00  \n",
       "4             372         -9.50  2013-01-01  04:00  "
      ]
     },
     "execution_count": 45,
     "metadata": {},
     "output_type": "execute_result"
    }
   ],
   "source": [
    "data.head()"
   ]
  },
  {
   "cell_type": "code",
   "execution_count": 46,
   "metadata": {},
   "outputs": [
    {
     "data": {
      "image/png": "[encoded data removed]",
      "text/plain": [
       "<matplotlib.figure.Figure at 0x1a13cf38d0>"
      ]
     },
     "metadata": {
      "image/png": {
       "height": 277,
       "width": 416
      }
     },
     "output_type": "display_data"
    }
   ],
   "source": [
    "plot_temp_against_time = data[[\"time\",\"temp_celcius\"]].groupby(\"time\").mean()\n",
    "plot_temp_against_time.reset_index(inplace=True)\n",
    "plot_temp_against_time[\"time\"] = plot_temp_against_time[\"time\"].apply(lambda x: int(x[:2]))\n",
    "plt.title(\"Temperature against time\")\n",
    "plt.xlabel(\"time\")\n",
    "plt.ylabel(\"temperature / Celcius\")\n",
    "plt.bar(plot_temp_against_time[\"time\"], plot_temp_against_time[\"temp_celcius\"], color=\"blue\")\n",
    "plt.show()"
   ]
  },
  {
   "cell_type": "markdown",
   "metadata": {},
   "source": [
    "Objective of the model is to predict the target column `traffic_volume`, to check relationship between traffic_volumn and other columns"
   ]
  },
  {
   "cell_type": "markdown",
   "metadata": {},
   "source": [
    "analyse time against traffic volume"
   ]
  },
  {
   "cell_type": "code",
   "execution_count": 47,
   "metadata": {},
   "outputs": [
    {
     "data": {
      "image/png": "[encoded data removed]",
      "text/plain": [
       "<matplotlib.figure.Figure at 0x1a13fcd588>"
      ]
     },
     "metadata": {
      "image/png": {
       "height": 277,
       "width": 435
      }
     },
     "output_type": "display_data"
    }
   ],
   "source": [
    "plot_traffic_against_time = data[[\"time\",\"traffic_volume\"]].groupby(\"time\").mean()\n",
    "plot_traffic_against_time.reset_index(inplace=True)\n",
    "plot_traffic_against_time[\"time\"] = plot_traffic_against_time[\"time\"].apply(lambda x: int(x[:2]))\n",
    "plt.title(\"Temperature against time\")\n",
    "plt.xlabel(\"time\")\n",
    "plt.ylabel(\"traffic_volume\")\n",
    "plt.bar(plot_traffic_against_time[\"time\"], plot_traffic_against_time[\"traffic_volume\"], color=\"blue\")\n",
    "plt.show()"
   ]
  },
  {
   "cell_type": "markdown",
   "metadata": {},
   "source": [
    "You would expect that traffic would be high during certain peak periods, but traffic seems to be pretty stable (high) during the daty, and lower towards the night time"
   ]
  },
  {
   "cell_type": "markdown",
   "metadata": {},
   "source": [
    "also the clock is quite cyclical, so the model has to account for that as well"
   ]
  },
  {
   "cell_type": "markdown",
   "metadata": {},
   "source": [
    "let investigate traffic volume with the date of the year"
   ]
  },
  {
   "cell_type": "code",
   "execution_count": 48,
   "metadata": {},
   "outputs": [
    {
     "data": {
      "image/png": "[encoded data removed]",
      "text/plain": [
       "<matplotlib.figure.Figure at 0x1a114c53c8>"
      ]
     },
     "metadata": {
      "image/png": {
       "height": 277,
       "width": 440
      }
     },
     "output_type": "display_data"
    }
   ],
   "source": [
    "plot_traffic_date = data[[\"traffic_volume\",\"date\"]].groupby(\"date\").mean()\n",
    "plot_traffic_date.reset_index(inplace=True)\n",
    "plot_traffic_date[\"date\"] = pd.to_datetime(plot_traffic_date[\"date\"])\n",
    "plt.title(\"traffic_volume against date\")\n",
    "plt.xlabel(\"date\")\n",
    "plt.ylabel(\"traffic_volume\")\n",
    "plt.bar(plot_traffic_date[\"date\"], plot_traffic_date[\"traffic_volume\"], color=\"blue\")\n",
    "plt.show()"
   ]
  },
  {
   "cell_type": "markdown",
   "metadata": {},
   "source": [
    "hard to tell, let's check it by month"
   ]
  },
  {
   "cell_type": "code",
   "execution_count": 49,
   "metadata": {},
   "outputs": [
    {
     "name": "stderr",
     "output_type": "stream",
     "text": [
      "/Users/jialianglow/anaconda3/lib/python3.6/site-packages/ipykernel_launcher.py:2: SettingWithCopyWarning: \n",
      "A value is trying to be set on a copy of a slice from a DataFrame.\n",
      "Try using .loc[row_indexer,col_indexer] = value instead\n",
      "\n",
      "See the caveats in the documentation: http://pandas.pydata.org/pandas-docs/stable/user_guide/indexing.html#returning-a-view-versus-a-copy\n",
      "  \n",
      "/Users/jialianglow/anaconda3/lib/python3.6/site-packages/ipykernel_launcher.py:3: SettingWithCopyWarning: \n",
      "A value is trying to be set on a copy of a slice from a DataFrame.\n",
      "Try using .loc[row_indexer,col_indexer] = value instead\n",
      "\n",
      "See the caveats in the documentation: http://pandas.pydata.org/pandas-docs/stable/user_guide/indexing.html#returning-a-view-versus-a-copy\n",
      "  This is separate from the ipykernel package so we can avoid doing imports until\n"
     ]
    },
    {
     "data": {
      "image/png": "[encoded data removed]",
      "text/plain": [
       "<matplotlib.figure.Figure at 0x1a13fa3d68>"
      ]
     },
     "metadata": {
      "image/png": {
       "height": 277,
       "width": 435
      }
     },
     "output_type": "display_data"
    }
   ],
   "source": [
    "plot_traffic_date = data[[\"traffic_volume\",\"date\"]]\n",
    "plot_traffic_date[\"date\"] = pd.to_datetime(plot_traffic_date[\"date\"])\n",
    "plot_traffic_date[\"month\"] = plot_traffic_date[\"date\"].apply(lambda x : x.month)\n",
    "plot_traffic_date = plot_traffic_date[[\"month\",\"traffic_volume\"]].groupby(\"month\").mean()\n",
    "plot_traffic_date.reset_index(inplace=True)\n",
    "plt.title(\"traffic_volume against date\")\n",
    "plt.xlabel(\"month\")\n",
    "plt.ylabel(\"traffic_volume\")\n",
    "plt.bar(plot_traffic_date[\"month\"], plot_traffic_date[\"traffic_volume\"], color=\"blue\")\n",
    "plt.show()"
   ]
  },
  {
   "cell_type": "markdown",
   "metadata": {},
   "source": [
    "looks pretty flat on the monthly basis"
   ]
  },
  {
   "cell_type": "markdown",
   "metadata": {},
   "source": [
    "prepare data to build models"
   ]
  },
  {
   "cell_type": "code",
   "execution_count": 50,
   "metadata": {},
   "outputs": [
    {
     "data": {
      "text/html": [
       "<div>\n",
       "<style scoped>\n",
       "    .dataframe tbody tr th:only-of-type {\n",
       "        vertical-align: middle;\n",
       "    }\n",
       "\n",
       "    .dataframe tbody tr th {\n",
       "        vertical-align: top;\n",
       "    }\n",
       "\n",
       "    .dataframe thead th {\n",
       "        text-align: right;\n",
       "    }\n",
       "</style>\n",
       "<table border=\"1\" class=\"dataframe\">\n",
       "  <thead>\n",
       "    <tr style=\"text-align: right;\">\n",
       "      <th></th>\n",
       "      <th>holiday</th>\n",
       "      <th>rain_1h</th>\n",
       "      <th>clouds_all</th>\n",
       "      <th>weather_main</th>\n",
       "      <th>date_time</th>\n",
       "      <th>traffic_volume</th>\n",
       "      <th>temp_celcius</th>\n",
       "      <th>date</th>\n",
       "      <th>time</th>\n",
       "    </tr>\n",
       "  </thead>\n",
       "  <tbody>\n",
       "    <tr>\n",
       "      <td>0</td>\n",
       "      <td>New Years Day</td>\n",
       "      <td>0.0</td>\n",
       "      <td>58</td>\n",
       "      <td>Clouds</td>\n",
       "      <td>2013-01-01 00:00:00</td>\n",
       "      <td>1439</td>\n",
       "      <td>-9.66</td>\n",
       "      <td>2013-01-01</td>\n",
       "      <td>00:00</td>\n",
       "    </tr>\n",
       "    <tr>\n",
       "      <td>1</td>\n",
       "      <td>None</td>\n",
       "      <td>0.0</td>\n",
       "      <td>40</td>\n",
       "      <td>Clouds</td>\n",
       "      <td>2013-01-01 01:00:00</td>\n",
       "      <td>1502</td>\n",
       "      <td>-9.37</td>\n",
       "      <td>2013-01-01</td>\n",
       "      <td>01:00</td>\n",
       "    </tr>\n",
       "    <tr>\n",
       "      <td>2</td>\n",
       "      <td>None</td>\n",
       "      <td>0.0</td>\n",
       "      <td>75</td>\n",
       "      <td>Snow</td>\n",
       "      <td>2013-01-01 02:00:00</td>\n",
       "      <td>933</td>\n",
       "      <td>-8.99</td>\n",
       "      <td>2013-01-01</td>\n",
       "      <td>02:00</td>\n",
       "    </tr>\n",
       "    <tr>\n",
       "      <td>3</td>\n",
       "      <td>None</td>\n",
       "      <td>0.0</td>\n",
       "      <td>90</td>\n",
       "      <td>Clouds</td>\n",
       "      <td>2013-01-01 03:00:00</td>\n",
       "      <td>576</td>\n",
       "      <td>-9.20</td>\n",
       "      <td>2013-01-01</td>\n",
       "      <td>03:00</td>\n",
       "    </tr>\n",
       "    <tr>\n",
       "      <td>4</td>\n",
       "      <td>None</td>\n",
       "      <td>0.0</td>\n",
       "      <td>90</td>\n",
       "      <td>Clouds</td>\n",
       "      <td>2013-01-01 04:00:00</td>\n",
       "      <td>372</td>\n",
       "      <td>-9.50</td>\n",
       "      <td>2013-01-01</td>\n",
       "      <td>04:00</td>\n",
       "    </tr>\n",
       "  </tbody>\n",
       "</table>\n",
       "</div>"
      ],
      "text/plain": [
       "         holiday  rain_1h  clouds_all weather_main           date_time  \\\n",
       "0  New Years Day      0.0          58       Clouds 2013-01-01 00:00:00   \n",
       "1           None      0.0          40       Clouds 2013-01-01 01:00:00   \n",
       "2           None      0.0          75         Snow 2013-01-01 02:00:00   \n",
       "3           None      0.0          90       Clouds 2013-01-01 03:00:00   \n",
       "4           None      0.0          90       Clouds 2013-01-01 04:00:00   \n",
       "\n",
       "   traffic_volume  temp_celcius        date   time  \n",
       "0            1439         -9.66  2013-01-01  00:00  \n",
       "1            1502         -9.37  2013-01-01  01:00  \n",
       "2             933         -8.99  2013-01-01  02:00  \n",
       "3             576         -9.20  2013-01-01  03:00  \n",
       "4             372         -9.50  2013-01-01  04:00  "
      ]
     },
     "execution_count": 50,
     "metadata": {},
     "output_type": "execute_result"
    }
   ],
   "source": [
    "data.head()"
   ]
  },
  {
   "cell_type": "markdown",
   "metadata": {},
   "source": [
    "the holiday name is unimportant, so we shall convert it to binary, 1 for holiday, 0 for none"
   ]
  },
  {
   "cell_type": "code",
   "execution_count": 51,
   "metadata": {
    "collapsed": true
   },
   "outputs": [],
   "source": [
    "data[\"holiday\"] = data[\"holiday\"].apply(lambda x : 1 if x != \"None\" else 0)"
   ]
  },
  {
   "cell_type": "code",
   "execution_count": 52,
   "metadata": {
    "collapsed": true
   },
   "outputs": [],
   "source": [
    "weather = pd.get_dummies(data[\"weather_main\"])"
   ]
  },
  {
   "cell_type": "code",
   "execution_count": 53,
   "metadata": {},
   "outputs": [
    {
     "data": {
      "text/html": [
       "<div>\n",
       "<style scoped>\n",
       "    .dataframe tbody tr th:only-of-type {\n",
       "        vertical-align: middle;\n",
       "    }\n",
       "\n",
       "    .dataframe tbody tr th {\n",
       "        vertical-align: top;\n",
       "    }\n",
       "\n",
       "    .dataframe thead th {\n",
       "        text-align: right;\n",
       "    }\n",
       "</style>\n",
       "<table border=\"1\" class=\"dataframe\">\n",
       "  <thead>\n",
       "    <tr style=\"text-align: right;\">\n",
       "      <th></th>\n",
       "      <th>Clear</th>\n",
       "      <th>Clouds</th>\n",
       "      <th>Drizzle</th>\n",
       "      <th>Fog</th>\n",
       "      <th>Haze</th>\n",
       "      <th>Mist</th>\n",
       "      <th>Rain</th>\n",
       "      <th>Snow</th>\n",
       "      <th>Squall</th>\n",
       "      <th>Thunderstorm</th>\n",
       "    </tr>\n",
       "  </thead>\n",
       "  <tbody>\n",
       "    <tr>\n",
       "      <td>0</td>\n",
       "      <td>0</td>\n",
       "      <td>1</td>\n",
       "      <td>0</td>\n",
       "      <td>0</td>\n",
       "      <td>0</td>\n",
       "      <td>0</td>\n",
       "      <td>0</td>\n",
       "      <td>0</td>\n",
       "      <td>0</td>\n",
       "      <td>0</td>\n",
       "    </tr>\n",
       "    <tr>\n",
       "      <td>1</td>\n",
       "      <td>0</td>\n",
       "      <td>1</td>\n",
       "      <td>0</td>\n",
       "      <td>0</td>\n",
       "      <td>0</td>\n",
       "      <td>0</td>\n",
       "      <td>0</td>\n",
       "      <td>0</td>\n",
       "      <td>0</td>\n",
       "      <td>0</td>\n",
       "    </tr>\n",
       "    <tr>\n",
       "      <td>2</td>\n",
       "      <td>0</td>\n",
       "      <td>0</td>\n",
       "      <td>0</td>\n",
       "      <td>0</td>\n",
       "      <td>0</td>\n",
       "      <td>0</td>\n",
       "      <td>0</td>\n",
       "      <td>1</td>\n",
       "      <td>0</td>\n",
       "      <td>0</td>\n",
       "    </tr>\n",
       "    <tr>\n",
       "      <td>3</td>\n",
       "      <td>0</td>\n",
       "      <td>1</td>\n",
       "      <td>0</td>\n",
       "      <td>0</td>\n",
       "      <td>0</td>\n",
       "      <td>0</td>\n",
       "      <td>0</td>\n",
       "      <td>0</td>\n",
       "      <td>0</td>\n",
       "      <td>0</td>\n",
       "    </tr>\n",
       "    <tr>\n",
       "      <td>4</td>\n",
       "      <td>0</td>\n",
       "      <td>1</td>\n",
       "      <td>0</td>\n",
       "      <td>0</td>\n",
       "      <td>0</td>\n",
       "      <td>0</td>\n",
       "      <td>0</td>\n",
       "      <td>0</td>\n",
       "      <td>0</td>\n",
       "      <td>0</td>\n",
       "    </tr>\n",
       "  </tbody>\n",
       "</table>\n",
       "</div>"
      ],
      "text/plain": [
       "   Clear  Clouds  Drizzle  Fog  Haze  Mist  Rain  Snow  Squall  Thunderstorm\n",
       "0      0       1        0    0     0     0     0     0       0             0\n",
       "1      0       1        0    0     0     0     0     0       0             0\n",
       "2      0       0        0    0     0     0     0     1       0             0\n",
       "3      0       1        0    0     0     0     0     0       0             0\n",
       "4      0       1        0    0     0     0     0     0       0             0"
      ]
     },
     "execution_count": 53,
     "metadata": {},
     "output_type": "execute_result"
    }
   ],
   "source": [
    "weather.head()"
   ]
  },
  {
   "cell_type": "code",
   "execution_count": 54,
   "metadata": {
    "collapsed": true
   },
   "outputs": [],
   "source": [
    "data = pd.concat([data,weather],axis=1)"
   ]
  },
  {
   "cell_type": "code",
   "execution_count": 55,
   "metadata": {
    "collapsed": true
   },
   "outputs": [],
   "source": [
    "data[\"time\"] = data[\"time\"].apply(lambda x: int(x[:2]))"
   ]
  },
  {
   "cell_type": "code",
   "execution_count": 56,
   "metadata": {},
   "outputs": [
    {
     "data": {
      "text/html": [
       "<div>\n",
       "<style scoped>\n",
       "    .dataframe tbody tr th:only-of-type {\n",
       "        vertical-align: middle;\n",
       "    }\n",
       "\n",
       "    .dataframe tbody tr th {\n",
       "        vertical-align: top;\n",
       "    }\n",
       "\n",
       "    .dataframe thead th {\n",
       "        text-align: right;\n",
       "    }\n",
       "</style>\n",
       "<table border=\"1\" class=\"dataframe\">\n",
       "  <thead>\n",
       "    <tr style=\"text-align: right;\">\n",
       "      <th></th>\n",
       "      <th>0</th>\n",
       "      <th>1</th>\n",
       "      <th>2</th>\n",
       "      <th>3</th>\n",
       "      <th>4</th>\n",
       "      <th>5</th>\n",
       "      <th>6</th>\n",
       "      <th>7</th>\n",
       "      <th>8</th>\n",
       "      <th>9</th>\n",
       "      <th>...</th>\n",
       "      <th>14</th>\n",
       "      <th>15</th>\n",
       "      <th>16</th>\n",
       "      <th>17</th>\n",
       "      <th>18</th>\n",
       "      <th>19</th>\n",
       "      <th>20</th>\n",
       "      <th>21</th>\n",
       "      <th>22</th>\n",
       "      <th>23</th>\n",
       "    </tr>\n",
       "  </thead>\n",
       "  <tbody>\n",
       "    <tr>\n",
       "      <td>0</td>\n",
       "      <td>1</td>\n",
       "      <td>0</td>\n",
       "      <td>0</td>\n",
       "      <td>0</td>\n",
       "      <td>0</td>\n",
       "      <td>0</td>\n",
       "      <td>0</td>\n",
       "      <td>0</td>\n",
       "      <td>0</td>\n",
       "      <td>0</td>\n",
       "      <td>...</td>\n",
       "      <td>0</td>\n",
       "      <td>0</td>\n",
       "      <td>0</td>\n",
       "      <td>0</td>\n",
       "      <td>0</td>\n",
       "      <td>0</td>\n",
       "      <td>0</td>\n",
       "      <td>0</td>\n",
       "      <td>0</td>\n",
       "      <td>0</td>\n",
       "    </tr>\n",
       "    <tr>\n",
       "      <td>1</td>\n",
       "      <td>0</td>\n",
       "      <td>1</td>\n",
       "      <td>0</td>\n",
       "      <td>0</td>\n",
       "      <td>0</td>\n",
       "      <td>0</td>\n",
       "      <td>0</td>\n",
       "      <td>0</td>\n",
       "      <td>0</td>\n",
       "      <td>0</td>\n",
       "      <td>...</td>\n",
       "      <td>0</td>\n",
       "      <td>0</td>\n",
       "      <td>0</td>\n",
       "      <td>0</td>\n",
       "      <td>0</td>\n",
       "      <td>0</td>\n",
       "      <td>0</td>\n",
       "      <td>0</td>\n",
       "      <td>0</td>\n",
       "      <td>0</td>\n",
       "    </tr>\n",
       "    <tr>\n",
       "      <td>2</td>\n",
       "      <td>0</td>\n",
       "      <td>0</td>\n",
       "      <td>1</td>\n",
       "      <td>0</td>\n",
       "      <td>0</td>\n",
       "      <td>0</td>\n",
       "      <td>0</td>\n",
       "      <td>0</td>\n",
       "      <td>0</td>\n",
       "      <td>0</td>\n",
       "      <td>...</td>\n",
       "      <td>0</td>\n",
       "      <td>0</td>\n",
       "      <td>0</td>\n",
       "      <td>0</td>\n",
       "      <td>0</td>\n",
       "      <td>0</td>\n",
       "      <td>0</td>\n",
       "      <td>0</td>\n",
       "      <td>0</td>\n",
       "      <td>0</td>\n",
       "    </tr>\n",
       "    <tr>\n",
       "      <td>3</td>\n",
       "      <td>0</td>\n",
       "      <td>0</td>\n",
       "      <td>0</td>\n",
       "      <td>1</td>\n",
       "      <td>0</td>\n",
       "      <td>0</td>\n",
       "      <td>0</td>\n",
       "      <td>0</td>\n",
       "      <td>0</td>\n",
       "      <td>0</td>\n",
       "      <td>...</td>\n",
       "      <td>0</td>\n",
       "      <td>0</td>\n",
       "      <td>0</td>\n",
       "      <td>0</td>\n",
       "      <td>0</td>\n",
       "      <td>0</td>\n",
       "      <td>0</td>\n",
       "      <td>0</td>\n",
       "      <td>0</td>\n",
       "      <td>0</td>\n",
       "    </tr>\n",
       "    <tr>\n",
       "      <td>4</td>\n",
       "      <td>0</td>\n",
       "      <td>0</td>\n",
       "      <td>0</td>\n",
       "      <td>0</td>\n",
       "      <td>1</td>\n",
       "      <td>0</td>\n",
       "      <td>0</td>\n",
       "      <td>0</td>\n",
       "      <td>0</td>\n",
       "      <td>0</td>\n",
       "      <td>...</td>\n",
       "      <td>0</td>\n",
       "      <td>0</td>\n",
       "      <td>0</td>\n",
       "      <td>0</td>\n",
       "      <td>0</td>\n",
       "      <td>0</td>\n",
       "      <td>0</td>\n",
       "      <td>0</td>\n",
       "      <td>0</td>\n",
       "      <td>0</td>\n",
       "    </tr>\n",
       "  </tbody>\n",
       "</table>\n",
       "<p>5 rows × 24 columns</p>\n",
       "</div>"
      ],
      "text/plain": [
       "   0   1   2   3   4   5   6   7   8   9   ...  14  15  16  17  18  19  20  \\\n",
       "0   1   0   0   0   0   0   0   0   0   0  ...   0   0   0   0   0   0   0   \n",
       "1   0   1   0   0   0   0   0   0   0   0  ...   0   0   0   0   0   0   0   \n",
       "2   0   0   1   0   0   0   0   0   0   0  ...   0   0   0   0   0   0   0   \n",
       "3   0   0   0   1   0   0   0   0   0   0  ...   0   0   0   0   0   0   0   \n",
       "4   0   0   0   0   1   0   0   0   0   0  ...   0   0   0   0   0   0   0   \n",
       "\n",
       "   21  22  23  \n",
       "0   0   0   0  \n",
       "1   0   0   0  \n",
       "2   0   0   0  \n",
       "3   0   0   0  \n",
       "4   0   0   0  \n",
       "\n",
       "[5 rows x 24 columns]"
      ]
     },
     "execution_count": 56,
     "metadata": {},
     "output_type": "execute_result"
    }
   ],
   "source": [
    "time = pd.get_dummies(data[\"time\"])\n",
    "time.head()"
   ]
  },
  {
   "cell_type": "code",
   "execution_count": 57,
   "metadata": {
    "collapsed": true
   },
   "outputs": [],
   "source": [
    "data = pd.concat([data,time],axis=1)"
   ]
  },
  {
   "cell_type": "code",
   "execution_count": 58,
   "metadata": {
    "collapsed": true
   },
   "outputs": [],
   "source": [
    "data.drop([\"weather_main\",\"date_time\",\"date\",\"time\"],axis=1,inplace=True)"
   ]
  },
  {
   "cell_type": "code",
   "execution_count": 59,
   "metadata": {},
   "outputs": [
    {
     "data": {
      "text/html": [
       "<div>\n",
       "<style scoped>\n",
       "    .dataframe tbody tr th:only-of-type {\n",
       "        vertical-align: middle;\n",
       "    }\n",
       "\n",
       "    .dataframe tbody tr th {\n",
       "        vertical-align: top;\n",
       "    }\n",
       "\n",
       "    .dataframe thead th {\n",
       "        text-align: right;\n",
       "    }\n",
       "</style>\n",
       "<table border=\"1\" class=\"dataframe\">\n",
       "  <thead>\n",
       "    <tr style=\"text-align: right;\">\n",
       "      <th></th>\n",
       "      <th>holiday</th>\n",
       "      <th>rain_1h</th>\n",
       "      <th>clouds_all</th>\n",
       "      <th>traffic_volume</th>\n",
       "      <th>temp_celcius</th>\n",
       "      <th>Clear</th>\n",
       "      <th>Clouds</th>\n",
       "      <th>Drizzle</th>\n",
       "      <th>Fog</th>\n",
       "      <th>Haze</th>\n",
       "      <th>...</th>\n",
       "      <th>14</th>\n",
       "      <th>15</th>\n",
       "      <th>16</th>\n",
       "      <th>17</th>\n",
       "      <th>18</th>\n",
       "      <th>19</th>\n",
       "      <th>20</th>\n",
       "      <th>21</th>\n",
       "      <th>22</th>\n",
       "      <th>23</th>\n",
       "    </tr>\n",
       "  </thead>\n",
       "  <tbody>\n",
       "    <tr>\n",
       "      <td>0</td>\n",
       "      <td>1</td>\n",
       "      <td>0.0</td>\n",
       "      <td>58</td>\n",
       "      <td>1439</td>\n",
       "      <td>-9.66</td>\n",
       "      <td>0</td>\n",
       "      <td>1</td>\n",
       "      <td>0</td>\n",
       "      <td>0</td>\n",
       "      <td>0</td>\n",
       "      <td>...</td>\n",
       "      <td>0</td>\n",
       "      <td>0</td>\n",
       "      <td>0</td>\n",
       "      <td>0</td>\n",
       "      <td>0</td>\n",
       "      <td>0</td>\n",
       "      <td>0</td>\n",
       "      <td>0</td>\n",
       "      <td>0</td>\n",
       "      <td>0</td>\n",
       "    </tr>\n",
       "    <tr>\n",
       "      <td>1</td>\n",
       "      <td>0</td>\n",
       "      <td>0.0</td>\n",
       "      <td>40</td>\n",
       "      <td>1502</td>\n",
       "      <td>-9.37</td>\n",
       "      <td>0</td>\n",
       "      <td>1</td>\n",
       "      <td>0</td>\n",
       "      <td>0</td>\n",
       "      <td>0</td>\n",
       "      <td>...</td>\n",
       "      <td>0</td>\n",
       "      <td>0</td>\n",
       "      <td>0</td>\n",
       "      <td>0</td>\n",
       "      <td>0</td>\n",
       "      <td>0</td>\n",
       "      <td>0</td>\n",
       "      <td>0</td>\n",
       "      <td>0</td>\n",
       "      <td>0</td>\n",
       "    </tr>\n",
       "    <tr>\n",
       "      <td>2</td>\n",
       "      <td>0</td>\n",
       "      <td>0.0</td>\n",
       "      <td>75</td>\n",
       "      <td>933</td>\n",
       "      <td>-8.99</td>\n",
       "      <td>0</td>\n",
       "      <td>0</td>\n",
       "      <td>0</td>\n",
       "      <td>0</td>\n",
       "      <td>0</td>\n",
       "      <td>...</td>\n",
       "      <td>0</td>\n",
       "      <td>0</td>\n",
       "      <td>0</td>\n",
       "      <td>0</td>\n",
       "      <td>0</td>\n",
       "      <td>0</td>\n",
       "      <td>0</td>\n",
       "      <td>0</td>\n",
       "      <td>0</td>\n",
       "      <td>0</td>\n",
       "    </tr>\n",
       "    <tr>\n",
       "      <td>3</td>\n",
       "      <td>0</td>\n",
       "      <td>0.0</td>\n",
       "      <td>90</td>\n",
       "      <td>576</td>\n",
       "      <td>-9.20</td>\n",
       "      <td>0</td>\n",
       "      <td>1</td>\n",
       "      <td>0</td>\n",
       "      <td>0</td>\n",
       "      <td>0</td>\n",
       "      <td>...</td>\n",
       "      <td>0</td>\n",
       "      <td>0</td>\n",
       "      <td>0</td>\n",
       "      <td>0</td>\n",
       "      <td>0</td>\n",
       "      <td>0</td>\n",
       "      <td>0</td>\n",
       "      <td>0</td>\n",
       "      <td>0</td>\n",
       "      <td>0</td>\n",
       "    </tr>\n",
       "    <tr>\n",
       "      <td>4</td>\n",
       "      <td>0</td>\n",
       "      <td>0.0</td>\n",
       "      <td>90</td>\n",
       "      <td>372</td>\n",
       "      <td>-9.50</td>\n",
       "      <td>0</td>\n",
       "      <td>1</td>\n",
       "      <td>0</td>\n",
       "      <td>0</td>\n",
       "      <td>0</td>\n",
       "      <td>...</td>\n",
       "      <td>0</td>\n",
       "      <td>0</td>\n",
       "      <td>0</td>\n",
       "      <td>0</td>\n",
       "      <td>0</td>\n",
       "      <td>0</td>\n",
       "      <td>0</td>\n",
       "      <td>0</td>\n",
       "      <td>0</td>\n",
       "      <td>0</td>\n",
       "    </tr>\n",
       "  </tbody>\n",
       "</table>\n",
       "<p>5 rows × 39 columns</p>\n",
       "</div>"
      ],
      "text/plain": [
       "   holiday  rain_1h  clouds_all  traffic_volume  temp_celcius  Clear  Clouds  \\\n",
       "0        1      0.0          58            1439         -9.66      0       1   \n",
       "1        0      0.0          40            1502         -9.37      0       1   \n",
       "2        0      0.0          75             933         -8.99      0       0   \n",
       "3        0      0.0          90             576         -9.20      0       1   \n",
       "4        0      0.0          90             372         -9.50      0       1   \n",
       "\n",
       "   Drizzle  Fog  Haze  ...  14  15  16  17  18  19  20  21  22  23  \n",
       "0        0    0     0  ...   0   0   0   0   0   0   0   0   0   0  \n",
       "1        0    0     0  ...   0   0   0   0   0   0   0   0   0   0  \n",
       "2        0    0     0  ...   0   0   0   0   0   0   0   0   0   0  \n",
       "3        0    0     0  ...   0   0   0   0   0   0   0   0   0   0  \n",
       "4        0    0     0  ...   0   0   0   0   0   0   0   0   0   0  \n",
       "\n",
       "[5 rows x 39 columns]"
      ]
     },
     "execution_count": 59,
     "metadata": {},
     "output_type": "execute_result"
    }
   ],
   "source": [
    "data.head()"
   ]
  },
  {
   "cell_type": "code",
   "execution_count": 60,
   "metadata": {},
   "outputs": [
    {
     "name": "stdout",
     "output_type": "stream",
     "text": [
      "<class 'pandas.core.frame.DataFrame'>\n",
      "RangeIndex: 8573 entries, 0 to 8572\n",
      "Data columns (total 39 columns):\n",
      "holiday           8573 non-null int64\n",
      "rain_1h           8573 non-null float64\n",
      "clouds_all        8573 non-null int64\n",
      "traffic_volume    8573 non-null int64\n",
      "temp_celcius      8573 non-null float64\n",
      "Clear             8573 non-null uint8\n",
      "Clouds            8573 non-null uint8\n",
      "Drizzle           8573 non-null uint8\n",
      "Fog               8573 non-null uint8\n",
      "Haze              8573 non-null uint8\n",
      "Mist              8573 non-null uint8\n",
      "Rain              8573 non-null uint8\n",
      "Snow              8573 non-null uint8\n",
      "Squall            8573 non-null uint8\n",
      "Thunderstorm      8573 non-null uint8\n",
      "0                 8573 non-null uint8\n",
      "1                 8573 non-null uint8\n",
      "2                 8573 non-null uint8\n",
      "3                 8573 non-null uint8\n",
      "4                 8573 non-null uint8\n",
      "5                 8573 non-null uint8\n",
      "6                 8573 non-null uint8\n",
      "7                 8573 non-null uint8\n",
      "8                 8573 non-null uint8\n",
      "9                 8573 non-null uint8\n",
      "10                8573 non-null uint8\n",
      "11                8573 non-null uint8\n",
      "12                8573 non-null uint8\n",
      "13                8573 non-null uint8\n",
      "14                8573 non-null uint8\n",
      "15                8573 non-null uint8\n",
      "16                8573 non-null uint8\n",
      "17                8573 non-null uint8\n",
      "18                8573 non-null uint8\n",
      "19                8573 non-null uint8\n",
      "20                8573 non-null uint8\n",
      "21                8573 non-null uint8\n",
      "22                8573 non-null uint8\n",
      "23                8573 non-null uint8\n",
      "dtypes: float64(2), int64(3), uint8(34)\n",
      "memory usage: 619.7 KB\n"
     ]
    }
   ],
   "source": [
    "data.info()"
   ]
  },
  {
   "cell_type": "markdown",
   "metadata": {},
   "source": [
    "looks like we have a purely numeric columns, we can start building our model"
   ]
  },
  {
   "cell_type": "code",
   "execution_count": 61,
   "metadata": {
    "collapsed": true
   },
   "outputs": [],
   "source": [
    "x_columns = [x for x in list(data.columns) if x != \"traffic_volume\"]"
   ]
  },
  {
   "cell_type": "code",
   "execution_count": 62,
   "metadata": {
    "collapsed": true
   },
   "outputs": [],
   "source": [
    "x = data[x_columns]\n",
    "y = data[\"traffic_volume\"]\n",
    "x_train, x_valid, y_train, y_valid = train_test_split(x, y, test_size=0.2, random_state=42)"
   ]
  },
  {
   "cell_type": "markdown",
   "metadata": {},
   "source": [
    "Let's first determine the base case for the model, a simple mean of the traffic volume will be used for the base case\n",
    "\n",
    "we will be using root mean square error to as a measure of the model's accuracy"
   ]
  },
  {
   "cell_type": "code",
   "execution_count": 63,
   "metadata": {},
   "outputs": [
    {
     "name": "stdout",
     "output_type": "stream",
     "text": [
      "mean: 3280.576990376203\n",
      "y_train.shape: (6858,)\n",
      "y_valid.shape: (1715,)\n"
     ]
    }
   ],
   "source": [
    "print(\"mean: {}\".format(y_train.mean()))\n",
    "print(\"y_train.shape: {}\".format(y_train.shape))\n",
    "print(\"y_valid.shape: {}\".format(y_valid.shape))"
   ]
  },
  {
   "cell_type": "code",
   "execution_count": 64,
   "metadata": {
    "collapsed": true
   },
   "outputs": [],
   "source": [
    "y_train_pred = np.full((6858,), 3280.576990376203)\n",
    "y_valid_pred = np.full((1715,), 3280.576990376203)"
   ]
  },
  {
   "cell_type": "code",
   "execution_count": 65,
   "metadata": {
    "collapsed": true
   },
   "outputs": [],
   "source": [
    "def calculate_rms(actual, predict):\n",
    "    return sqrt(mean_squared_error(actual, predict))"
   ]
  },
  {
   "cell_type": "code",
   "execution_count": 66,
   "metadata": {},
   "outputs": [
    {
     "name": "stdout",
     "output_type": "stream",
     "text": [
      "2030.9409133606346\n",
      "2017.272180580627\n"
     ]
    }
   ],
   "source": [
    "base_rms_train = calculate_rms(y_train, y_train_pred)\n",
    "base_rms_valid = calculate_rms(y_valid, y_valid_pred)\n",
    "print(base_rms_train)\n",
    "print(base_rms_valid)"
   ]
  },
  {
   "cell_type": "markdown",
   "metadata": {},
   "source": [
    "Lets attempt a linear regression model to improve the rms over the base case"
   ]
  },
  {
   "cell_type": "code",
   "execution_count": 67,
   "metadata": {},
   "outputs": [
    {
     "data": {
      "text/plain": [
       "LinearRegression(copy_X=True, fit_intercept=True, n_jobs=None,\n",
       "         normalize=False)"
      ]
     },
     "execution_count": 67,
     "metadata": {},
     "output_type": "execute_result"
    }
   ],
   "source": [
    "linreg=LinearRegression()\n",
    "linreg.fit(x_train,y_train)"
   ]
  },
  {
   "cell_type": "code",
   "execution_count": 68,
   "metadata": {},
   "outputs": [
    {
     "data": {
      "text/plain": [
       "(6858,)"
      ]
     },
     "execution_count": 68,
     "metadata": {},
     "output_type": "execute_result"
    }
   ],
   "source": [
    "y_train_pred.shape"
   ]
  },
  {
   "cell_type": "code",
   "execution_count": 69,
   "metadata": {},
   "outputs": [
    {
     "name": "stdout",
     "output_type": "stream",
     "text": [
      "960.2444578893146\n",
      "943.6942855973754\n"
     ]
    }
   ],
   "source": [
    "y_train_pred = linreg.predict(x_train)\n",
    "y_valid_pred = linreg.predict(x_valid)\n",
    "linR_rms_train = calculate_rms(y_train, y_train_pred)\n",
    "linR_rms_valid = calculate_rms(y_valid, y_valid_pred)\n",
    "print(linR_rms_train)\n",
    "print(linR_rms_valid)"
   ]
  },
  {
   "cell_type": "markdown",
   "metadata": {},
   "source": [
    "1) Looks like there's quite an improvement of the RMS error when using linear regression, over a simple mean of the training data  \n",
    "2) The variance between the train and validation rms is pretty small, thus we can assume that the model is not overfitting and has generalised pretty well  \n",
    "\n",
    "overall pretty good result from a simple linear regression"
   ]
  },
  {
   "cell_type": "markdown",
   "metadata": {},
   "source": [
    "Lets attempt a logistic regression model to improve the rms over the linear_regression case"
   ]
  },
  {
   "cell_type": "code",
   "execution_count": 70,
   "metadata": {},
   "outputs": [
    {
     "data": {
      "text/plain": [
       "LogisticRegression(C=1.0, class_weight=None, dual=False, fit_intercept=True,\n",
       "          intercept_scaling=1, max_iter=100, multi_class='warn',\n",
       "          n_jobs=None, penalty='l2', random_state=None, solver='warn',\n",
       "          tol=0.0001, verbose=0, warm_start=False)"
      ]
     },
     "execution_count": 70,
     "metadata": {},
     "output_type": "execute_result"
    }
   ],
   "source": [
    "logreg=LogisticRegression()\n",
    "logreg.fit(x_train,y_train)"
   ]
  },
  {
   "cell_type": "code",
   "execution_count": 71,
   "metadata": {
    "collapsed": true
   },
   "outputs": [],
   "source": [
    "y_train_pred = logreg.predict(x_train)\n",
    "y_valid_pred = logreg.predict(x_valid)"
   ]
  },
  {
   "cell_type": "code",
   "execution_count": 72,
   "metadata": {},
   "outputs": [
    {
     "name": "stdout",
     "output_type": "stream",
     "text": [
      "1394.8291863779486\n",
      "1429.7091716331315\n"
     ]
    }
   ],
   "source": [
    "lr_rms_train = calculate_rms(y_train, y_train_pred)\n",
    "lr_rms_valid = calculate_rms(y_valid, y_valid_pred)\n",
    "print(lr_rms_train)\n",
    "print(lr_rms_valid)"
   ]
  },
  {
   "cell_type": "markdown",
   "metadata": {},
   "source": [
    "1) Looks like there's quite an improvement of the RMS error when using logistic regression, over a simple mean of the training data, however the result is unexpectly worse than the simple linear regression. Sometimes the simple models provide better fits  \n",
    "2) The variance between the train and validation rms is pretty small, thus we can assume that the model is not overfitting and has generalised pretty well  \n",
    "\n",
    "overall an okay result from a simple logistic regression"
   ]
  },
  {
   "cell_type": "markdown",
   "metadata": {},
   "source": [
    "Let's try a sklearn neural net"
   ]
  },
  {
   "cell_type": "code",
   "execution_count": 110,
   "metadata": {},
   "outputs": [
    {
     "name": "stderr",
     "output_type": "stream",
     "text": [
      "/Users/jialianglow/anaconda3/lib/python3.6/site-packages/sklearn/preprocessing/data.py:645: DataConversionWarning: Data with input dtype uint8, int64, float64 were all converted to float64 by StandardScaler.\n",
      "  return self.partial_fit(X, y)\n",
      "/Users/jialianglow/anaconda3/lib/python3.6/site-packages/ipykernel_launcher.py:4: DataConversionWarning: Data with input dtype uint8, int64, float64 were all converted to float64 by StandardScaler.\n",
      "  after removing the cwd from sys.path.\n",
      "/Users/jialianglow/anaconda3/lib/python3.6/site-packages/ipykernel_launcher.py:5: DataConversionWarning: Data with input dtype uint8, int64, float64 were all converted to float64 by StandardScaler.\n",
      "  \"\"\"\n"
     ]
    }
   ],
   "source": [
    "from sklearn.preprocessing import StandardScaler  \n",
    "scaler = StandardScaler()  \n",
    "scaler.fit(x_train)  \n",
    "standardised_x_train = scaler.transform(x_train)  \n",
    "standardised_x_valid = scaler.transform(x_valid)"
   ]
  },
  {
   "cell_type": "code",
   "execution_count": 118,
   "metadata": {},
   "outputs": [
    {
     "data": {
      "text/plain": [
       "MLPRegressor(activation='relu', alpha=1e-05, batch_size='auto', beta_1=0.9,\n",
       "       beta_2=0.999, early_stopping=False, epsilon=1e-08,\n",
       "       hidden_layer_sizes=(50, 50, 50, 30, 30), learning_rate='constant',\n",
       "       learning_rate_init=0.001, max_iter=200, momentum=0.9,\n",
       "       n_iter_no_change=10, nesterovs_momentum=True, power_t=0.5,\n",
       "       random_state=1, shuffle=True, solver='lbfgs', tol=0.0001,\n",
       "       validation_fraction=0.1, verbose=False, warm_start=False)"
      ]
     },
     "execution_count": 118,
     "metadata": {},
     "output_type": "execute_result"
    }
   ],
   "source": [
    "from sklearn.neural_network import MLPRegressor\n",
    "\n",
    "    nnreg = MLPRegressor(solver='lbfgs', alpha=1e-5,\n",
    "                    hidden_layer_sizes=(50, 50, 50, 30, 30), random_state=1)\n",
    "nnreg.fit(standardised_x_train, y_train)                         "
   ]
  },
  {
   "cell_type": "code",
   "execution_count": 112,
   "metadata": {
    "collapsed": true
   },
   "outputs": [],
   "source": [
    "y_train_pred = nnreg.predict(standardised_x_train)\n",
    "y_valid_pred = nnreg.predict(standardised_x_valid)"
   ]
  },
  {
   "cell_type": "code",
   "execution_count": 113,
   "metadata": {},
   "outputs": [
    {
     "name": "stdout",
     "output_type": "stream",
     "text": [
      "892.8179716477952\n",
      "982.0268122461772\n"
     ]
    }
   ],
   "source": [
    "nn_rms_train = calculate_rms(y_train, y_train_pred)\n",
    "nn_rms_valid = calculate_rms(y_valid, y_valid_pred)\n",
    "print(nn_rms_train)\n",
    "print(nn_rms_valid)"
   ]
  },
  {
   "cell_type": "markdown",
   "metadata": {},
   "source": [
    "1) Looks like there's quite an improvement of the RMS error when using NN, over a simple mean of the training data  \n",
    "2) The variance between the train and validation rms is quite abit higher, thus we can assume that there is some overfitting in the model\n",
    "\n",
    "overall okay result from a NN  \n",
    "the hidden_layer_sizes were created at random by myself until i found a pretty optimal result. Next i will try to randomise the creation of hidden layer sizes to automatically find the best hidden_layer_sizes "
   ]
  },
  {
   "cell_type": "code",
   "execution_count": 75,
   "metadata": {
    "collapsed": true
   },
   "outputs": [],
   "source": [
    "def create_hidden_layer_sizes(n_instances= 10, min_depth=3, max_depth=8, min_layer_size = 10, max_layer_size = 50):\n",
    "    output = []\n",
    "    for i in range(n_instances):\n",
    "        depth = np.random.randint(min_depth, max_depth)\n",
    "        output += [tuple([np.random.randint(min_layer_size,max_layer_size) for j in range(depth)])]\n",
    "        \n",
    "    return output\n",
    "\n",
    "def neural_net_auto(data, hidden_layer_sizes_list):\n",
    "    x_train = data[\"x_train\"]\n",
    "    x_valid = data[\"x_valid\"]\n",
    "    y_train = data[\"y_train\"]\n",
    "    y_valid = data[\"y_valid\"]\n",
    "    #drop duplicates\n",
    "    hidden_layer_sizes_list = list(set(hidden_layer_sizes_list))\n",
    "    \n",
    "    output = {}\n",
    "    \n",
    "    for hidden_layer_sizes in hidden_layer_sizes_list:\n",
    "        \n",
    "        result = {}\n",
    "        \n",
    "        nnreg = MLPRegressor(solver='lbfgs', alpha=1e-5,\n",
    "                    hidden_layer_sizes=hidden_layer_sizes, random_state=1)\n",
    "        nnreg.fit(x_train, y_train)\n",
    "\n",
    "        y_train_pred = nnreg.predict(standardised_x_train)\n",
    "        y_valid_pred = nnreg.predict(standardised_x_valid)\n",
    "        \n",
    "        nn_rms_train = calculate_rms(y_train, y_train_pred)\n",
    "        nn_rms_valid = calculate_rms(y_valid, y_valid_pred)\n",
    "        \n",
    "        result[\"model\"] = nnreg\n",
    "        result[\"nn_rms_train\"] = nn_rms_train\n",
    "        result[\"nn_rms_valid\"] = nn_rms_valid\n",
    "        \n",
    "        output[hidden_layer_sizes] = result\n",
    "        \n",
    "    return output"
   ]
  },
  {
   "cell_type": "code",
   "execution_count": 76,
   "metadata": {
    "collapsed": true
   },
   "outputs": [],
   "source": [
    "auto_nn_data = {}\n",
    "auto_nn_data[\"x_train\"] = standardised_x_train\n",
    "auto_nn_data[\"x_valid\"] = standardised_x_valid\n",
    "auto_nn_data[\"y_train\"] = y_train\n",
    "auto_nn_data[\"y_valid\"] = y_valid\n"
   ]
  },
  {
   "cell_type": "code",
   "execution_count": 77,
   "metadata": {},
   "outputs": [
    {
     "data": {
      "text/plain": [
       "[(12, 46, 30, 16, 34, 11),\n",
       " (44, 23, 30, 18, 21, 16, 38),\n",
       " (44, 22, 39),\n",
       " (45, 17, 33),\n",
       " (10, 38, 29, 33),\n",
       " (22, 34, 28),\n",
       " (33, 17, 17, 26),\n",
       " (25, 31, 12, 31, 37, 45, 27),\n",
       " (10, 47, 16, 42, 43, 34),\n",
       " (29, 45, 35, 10, 16)]"
      ]
     },
     "execution_count": 77,
     "metadata": {},
     "output_type": "execute_result"
    }
   ],
   "source": [
    "hidden_layer_sizes_list = create_hidden_layer_sizes()\n",
    "hidden_layer_sizes_list"
   ]
  },
  {
   "cell_type": "code",
   "execution_count": 78,
   "metadata": {
    "collapsed": true
   },
   "outputs": [],
   "source": [
    "results = neural_net_auto(auto_nn_data,hidden_layer_sizes_list)"
   ]
  },
  {
   "cell_type": "code",
   "execution_count": 79,
   "metadata": {
    "collapsed": true
   },
   "outputs": [],
   "source": [
    "keys = []\n",
    "rms_train = []\n",
    "rms_valid = []\n",
    "for key, value  in results.items():\n",
    "    keys += [key]\n",
    "    rms_train += [value[\"nn_rms_train\"]]\n",
    "    rms_valid += [value[\"nn_rms_valid\"]]"
   ]
  },
  {
   "cell_type": "code",
   "execution_count": 80,
   "metadata": {
    "collapsed": true
   },
   "outputs": [],
   "source": [
    "result_df = pd.DataFrame(\n",
    "    {'keys': keys,\n",
    "     'rms_train': rms_train,\n",
    "     'rms_valid': rms_valid\n",
    "    })\n"
   ]
  },
  {
   "cell_type": "code",
   "execution_count": 81,
   "metadata": {
    "collapsed": true
   },
   "outputs": [],
   "source": [
    "result_df[\"rms_delta\"] = result_df[\"rms_train\"] - result_df[\"rms_valid\"]"
   ]
  },
  {
   "cell_type": "code",
   "execution_count": 82,
   "metadata": {},
   "outputs": [
    {
     "data": {
      "text/html": [
       "<div>\n",
       "<style scoped>\n",
       "    .dataframe tbody tr th:only-of-type {\n",
       "        vertical-align: middle;\n",
       "    }\n",
       "\n",
       "    .dataframe tbody tr th {\n",
       "        vertical-align: top;\n",
       "    }\n",
       "\n",
       "    .dataframe thead th {\n",
       "        text-align: right;\n",
       "    }\n",
       "</style>\n",
       "<table border=\"1\" class=\"dataframe\">\n",
       "  <thead>\n",
       "    <tr style=\"text-align: right;\">\n",
       "      <th></th>\n",
       "      <th>keys</th>\n",
       "      <th>rms_train</th>\n",
       "      <th>rms_valid</th>\n",
       "      <th>rms_delta</th>\n",
       "    </tr>\n",
       "  </thead>\n",
       "  <tbody>\n",
       "    <tr>\n",
       "      <td>0</td>\n",
       "      <td>(29, 45, 35, 10, 16)</td>\n",
       "      <td>903.726727</td>\n",
       "      <td>970.377763</td>\n",
       "      <td>-66.651036</td>\n",
       "    </tr>\n",
       "    <tr>\n",
       "      <td>1</td>\n",
       "      <td>(10, 38, 29, 33)</td>\n",
       "      <td>929.077362</td>\n",
       "      <td>956.961293</td>\n",
       "      <td>-27.883931</td>\n",
       "    </tr>\n",
       "    <tr>\n",
       "      <td>2</td>\n",
       "      <td>(44, 22, 39)</td>\n",
       "      <td>898.316695</td>\n",
       "      <td>979.041266</td>\n",
       "      <td>-80.724571</td>\n",
       "    </tr>\n",
       "    <tr>\n",
       "      <td>3</td>\n",
       "      <td>(44, 23, 30, 18, 21, 16, 38)</td>\n",
       "      <td>886.558978</td>\n",
       "      <td>988.123191</td>\n",
       "      <td>-101.564213</td>\n",
       "    </tr>\n",
       "    <tr>\n",
       "      <td>4</td>\n",
       "      <td>(12, 46, 30, 16, 34, 11)</td>\n",
       "      <td>922.053818</td>\n",
       "      <td>957.748289</td>\n",
       "      <td>-35.694471</td>\n",
       "    </tr>\n",
       "    <tr>\n",
       "      <td>5</td>\n",
       "      <td>(25, 31, 12, 31, 37, 45, 27)</td>\n",
       "      <td>892.744172</td>\n",
       "      <td>996.792438</td>\n",
       "      <td>-104.048266</td>\n",
       "    </tr>\n",
       "    <tr>\n",
       "      <td>6</td>\n",
       "      <td>(33, 17, 17, 26)</td>\n",
       "      <td>896.920506</td>\n",
       "      <td>975.414496</td>\n",
       "      <td>-78.493989</td>\n",
       "    </tr>\n",
       "    <tr>\n",
       "      <td>7</td>\n",
       "      <td>(10, 47, 16, 42, 43, 34)</td>\n",
       "      <td>929.863366</td>\n",
       "      <td>953.454019</td>\n",
       "      <td>-23.590652</td>\n",
       "    </tr>\n",
       "    <tr>\n",
       "      <td>8</td>\n",
       "      <td>(45, 17, 33)</td>\n",
       "      <td>912.927000</td>\n",
       "      <td>967.355417</td>\n",
       "      <td>-54.428418</td>\n",
       "    </tr>\n",
       "    <tr>\n",
       "      <td>9</td>\n",
       "      <td>(22, 34, 28)</td>\n",
       "      <td>920.402208</td>\n",
       "      <td>959.675015</td>\n",
       "      <td>-39.272807</td>\n",
       "    </tr>\n",
       "  </tbody>\n",
       "</table>\n",
       "</div>"
      ],
      "text/plain": [
       "                           keys   rms_train   rms_valid   rms_delta\n",
       "0          (29, 45, 35, 10, 16)  903.726727  970.377763  -66.651036\n",
       "1              (10, 38, 29, 33)  929.077362  956.961293  -27.883931\n",
       "2                  (44, 22, 39)  898.316695  979.041266  -80.724571\n",
       "3  (44, 23, 30, 18, 21, 16, 38)  886.558978  988.123191 -101.564213\n",
       "4      (12, 46, 30, 16, 34, 11)  922.053818  957.748289  -35.694471\n",
       "5  (25, 31, 12, 31, 37, 45, 27)  892.744172  996.792438 -104.048266\n",
       "6              (33, 17, 17, 26)  896.920506  975.414496  -78.493989\n",
       "7      (10, 47, 16, 42, 43, 34)  929.863366  953.454019  -23.590652\n",
       "8                  (45, 17, 33)  912.927000  967.355417  -54.428418\n",
       "9                  (22, 34, 28)  920.402208  959.675015  -39.272807"
      ]
     },
     "execution_count": 82,
     "metadata": {},
     "output_type": "execute_result"
    }
   ],
   "source": [
    "result_df"
   ]
  },
  {
   "cell_type": "code",
   "execution_count": 83,
   "metadata": {
    "collapsed": true
   },
   "outputs": [],
   "source": [
    "min_valid = result_df[\"rms_valid\"].min()"
   ]
  },
  {
   "cell_type": "code",
   "execution_count": 84,
   "metadata": {},
   "outputs": [
    {
     "data": {
      "text/html": [
       "<div>\n",
       "<style scoped>\n",
       "    .dataframe tbody tr th:only-of-type {\n",
       "        vertical-align: middle;\n",
       "    }\n",
       "\n",
       "    .dataframe tbody tr th {\n",
       "        vertical-align: top;\n",
       "    }\n",
       "\n",
       "    .dataframe thead th {\n",
       "        text-align: right;\n",
       "    }\n",
       "</style>\n",
       "<table border=\"1\" class=\"dataframe\">\n",
       "  <thead>\n",
       "    <tr style=\"text-align: right;\">\n",
       "      <th></th>\n",
       "      <th>keys</th>\n",
       "      <th>rms_train</th>\n",
       "      <th>rms_valid</th>\n",
       "      <th>rms_delta</th>\n",
       "    </tr>\n",
       "  </thead>\n",
       "  <tbody>\n",
       "    <tr>\n",
       "      <td>7</td>\n",
       "      <td>(10, 47, 16, 42, 43, 34)</td>\n",
       "      <td>929.863366</td>\n",
       "      <td>953.454019</td>\n",
       "      <td>-23.590652</td>\n",
       "    </tr>\n",
       "  </tbody>\n",
       "</table>\n",
       "</div>"
      ],
      "text/plain": [
       "                       keys   rms_train   rms_valid  rms_delta\n",
       "7  (10, 47, 16, 42, 43, 34)  929.863366  953.454019 -23.590652"
      ]
     },
     "execution_count": 84,
     "metadata": {},
     "output_type": "execute_result"
    }
   ],
   "source": [
    "result_df.query(\"rms_valid == '{}'\".format(min_valid))"
   ]
  },
  {
   "cell_type": "markdown",
   "metadata": {},
   "source": [
    "Marginal if not no improvements in the results, but at least we automated the process of selecting the best model"
   ]
  },
  {
   "cell_type": "markdown",
   "metadata": {},
   "source": [
    "further devlopment: to use more advanced neural network techniques (tensorflow/keras)"
   ]
  },
  {
   "cell_type": "code",
   "execution_count": 85,
   "metadata": {},
   "outputs": [
    {
     "data": {
      "text/html": [
       "<div>\n",
       "<style scoped>\n",
       "    .dataframe tbody tr th:only-of-type {\n",
       "        vertical-align: middle;\n",
       "    }\n",
       "\n",
       "    .dataframe tbody tr th {\n",
       "        vertical-align: top;\n",
       "    }\n",
       "\n",
       "    .dataframe thead th {\n",
       "        text-align: right;\n",
       "    }\n",
       "</style>\n",
       "<table border=\"1\" class=\"dataframe\">\n",
       "  <thead>\n",
       "    <tr style=\"text-align: right;\">\n",
       "      <th></th>\n",
       "      <th>holiday</th>\n",
       "      <th>rain_1h</th>\n",
       "      <th>clouds_all</th>\n",
       "      <th>traffic_volume</th>\n",
       "      <th>temp_celcius</th>\n",
       "      <th>Clear</th>\n",
       "      <th>Clouds</th>\n",
       "      <th>Drizzle</th>\n",
       "      <th>Fog</th>\n",
       "      <th>Haze</th>\n",
       "      <th>...</th>\n",
       "      <th>14</th>\n",
       "      <th>15</th>\n",
       "      <th>16</th>\n",
       "      <th>17</th>\n",
       "      <th>18</th>\n",
       "      <th>19</th>\n",
       "      <th>20</th>\n",
       "      <th>21</th>\n",
       "      <th>22</th>\n",
       "      <th>23</th>\n",
       "    </tr>\n",
       "  </thead>\n",
       "  <tbody>\n",
       "    <tr>\n",
       "      <td>0</td>\n",
       "      <td>1</td>\n",
       "      <td>0.0</td>\n",
       "      <td>58</td>\n",
       "      <td>1439</td>\n",
       "      <td>-9.66</td>\n",
       "      <td>0</td>\n",
       "      <td>1</td>\n",
       "      <td>0</td>\n",
       "      <td>0</td>\n",
       "      <td>0</td>\n",
       "      <td>...</td>\n",
       "      <td>0</td>\n",
       "      <td>0</td>\n",
       "      <td>0</td>\n",
       "      <td>0</td>\n",
       "      <td>0</td>\n",
       "      <td>0</td>\n",
       "      <td>0</td>\n",
       "      <td>0</td>\n",
       "      <td>0</td>\n",
       "      <td>0</td>\n",
       "    </tr>\n",
       "    <tr>\n",
       "      <td>1</td>\n",
       "      <td>0</td>\n",
       "      <td>0.0</td>\n",
       "      <td>40</td>\n",
       "      <td>1502</td>\n",
       "      <td>-9.37</td>\n",
       "      <td>0</td>\n",
       "      <td>1</td>\n",
       "      <td>0</td>\n",
       "      <td>0</td>\n",
       "      <td>0</td>\n",
       "      <td>...</td>\n",
       "      <td>0</td>\n",
       "      <td>0</td>\n",
       "      <td>0</td>\n",
       "      <td>0</td>\n",
       "      <td>0</td>\n",
       "      <td>0</td>\n",
       "      <td>0</td>\n",
       "      <td>0</td>\n",
       "      <td>0</td>\n",
       "      <td>0</td>\n",
       "    </tr>\n",
       "    <tr>\n",
       "      <td>2</td>\n",
       "      <td>0</td>\n",
       "      <td>0.0</td>\n",
       "      <td>75</td>\n",
       "      <td>933</td>\n",
       "      <td>-8.99</td>\n",
       "      <td>0</td>\n",
       "      <td>0</td>\n",
       "      <td>0</td>\n",
       "      <td>0</td>\n",
       "      <td>0</td>\n",
       "      <td>...</td>\n",
       "      <td>0</td>\n",
       "      <td>0</td>\n",
       "      <td>0</td>\n",
       "      <td>0</td>\n",
       "      <td>0</td>\n",
       "      <td>0</td>\n",
       "      <td>0</td>\n",
       "      <td>0</td>\n",
       "      <td>0</td>\n",
       "      <td>0</td>\n",
       "    </tr>\n",
       "    <tr>\n",
       "      <td>3</td>\n",
       "      <td>0</td>\n",
       "      <td>0.0</td>\n",
       "      <td>90</td>\n",
       "      <td>576</td>\n",
       "      <td>-9.20</td>\n",
       "      <td>0</td>\n",
       "      <td>1</td>\n",
       "      <td>0</td>\n",
       "      <td>0</td>\n",
       "      <td>0</td>\n",
       "      <td>...</td>\n",
       "      <td>0</td>\n",
       "      <td>0</td>\n",
       "      <td>0</td>\n",
       "      <td>0</td>\n",
       "      <td>0</td>\n",
       "      <td>0</td>\n",
       "      <td>0</td>\n",
       "      <td>0</td>\n",
       "      <td>0</td>\n",
       "      <td>0</td>\n",
       "    </tr>\n",
       "    <tr>\n",
       "      <td>4</td>\n",
       "      <td>0</td>\n",
       "      <td>0.0</td>\n",
       "      <td>90</td>\n",
       "      <td>372</td>\n",
       "      <td>-9.50</td>\n",
       "      <td>0</td>\n",
       "      <td>1</td>\n",
       "      <td>0</td>\n",
       "      <td>0</td>\n",
       "      <td>0</td>\n",
       "      <td>...</td>\n",
       "      <td>0</td>\n",
       "      <td>0</td>\n",
       "      <td>0</td>\n",
       "      <td>0</td>\n",
       "      <td>0</td>\n",
       "      <td>0</td>\n",
       "      <td>0</td>\n",
       "      <td>0</td>\n",
       "      <td>0</td>\n",
       "      <td>0</td>\n",
       "    </tr>\n",
       "  </tbody>\n",
       "</table>\n",
       "<p>5 rows × 39 columns</p>\n",
       "</div>"
      ],
      "text/plain": [
       "   holiday  rain_1h  clouds_all  traffic_volume  temp_celcius  Clear  Clouds  \\\n",
       "0        1      0.0          58            1439         -9.66      0       1   \n",
       "1        0      0.0          40            1502         -9.37      0       1   \n",
       "2        0      0.0          75             933         -8.99      0       0   \n",
       "3        0      0.0          90             576         -9.20      0       1   \n",
       "4        0      0.0          90             372         -9.50      0       1   \n",
       "\n",
       "   Drizzle  Fog  Haze  ...  14  15  16  17  18  19  20  21  22  23  \n",
       "0        0    0     0  ...   0   0   0   0   0   0   0   0   0   0  \n",
       "1        0    0     0  ...   0   0   0   0   0   0   0   0   0   0  \n",
       "2        0    0     0  ...   0   0   0   0   0   0   0   0   0   0  \n",
       "3        0    0     0  ...   0   0   0   0   0   0   0   0   0   0  \n",
       "4        0    0     0  ...   0   0   0   0   0   0   0   0   0   0  \n",
       "\n",
       "[5 rows x 39 columns]"
      ]
     },
     "execution_count": 85,
     "metadata": {},
     "output_type": "execute_result"
    }
   ],
   "source": [
    "data.head()"
   ]
  },
  {
   "cell_type": "code",
   "execution_count": 87,
   "metadata": {},
   "outputs": [
    {
     "data": {
      "text/plain": [
       "['holiday',\n",
       " 'rain_1h',\n",
       " 'clouds_all',\n",
       " 'traffic_volume',\n",
       " 'temp_celcius',\n",
       " 'Clear',\n",
       " 'Clouds',\n",
       " 'Drizzle',\n",
       " 'Fog',\n",
       " 'Haze',\n",
       " 'Mist',\n",
       " 'Rain',\n",
       " 'Snow',\n",
       " 'Squall',\n",
       " 'Thunderstorm',\n",
       " 0,\n",
       " 1,\n",
       " 2,\n",
       " 3,\n",
       " 4,\n",
       " 5,\n",
       " 6,\n",
       " 7,\n",
       " 8,\n",
       " 9,\n",
       " 10,\n",
       " 11,\n",
       " 12,\n",
       " 13,\n",
       " 14,\n",
       " 15,\n",
       " 16,\n",
       " 17,\n",
       " 18,\n",
       " 19,\n",
       " 20,\n",
       " 21,\n",
       " 22,\n",
       " 23]"
      ]
     },
     "execution_count": 87,
     "metadata": {},
     "output_type": "execute_result"
    }
   ],
   "source": [
    "list(data.columns)"
   ]
  },
  {
   "cell_type": "code",
   "execution_count": 88,
   "metadata": {},
   "outputs": [
    {
     "data": {
      "text/plain": [
       "['holiday',\n",
       " 'rain_1h',\n",
       " 'clouds_all',\n",
       " 'traffic_volume',\n",
       " 'temp_celcius',\n",
       " 'Clear',\n",
       " 'Clouds',\n",
       " 'Drizzle',\n",
       " 'Fog',\n",
       " 'Haze',\n",
       " 'Mist',\n",
       " 'Rain',\n",
       " 'Snow',\n",
       " 'Squall',\n",
       " 'Thunderstorm',\n",
       " 0,\n",
       " 1,\n",
       " 2,\n",
       " 3,\n",
       " 4,\n",
       " 5,\n",
       " 6,\n",
       " 7,\n",
       " 8,\n",
       " 9,\n",
       " 10,\n",
       " 11,\n",
       " 12,\n",
       " 13,\n",
       " 14,\n",
       " 15,\n",
       " 16,\n",
       " 17,\n",
       " 18,\n",
       " 19,\n",
       " 20,\n",
       " 21,\n",
       " 22,\n",
       " 23]"
      ]
     },
     "execution_count": 88,
     "metadata": {},
     "output_type": "execute_result"
    }
   ],
   "source": [
    "['holiday',\n",
    " 'rain_1h',\n",
    " 'clouds_all',\n",
    " 'traffic_volume',\n",
    " 'temp_celcius',\n",
    " 'Clear',\n",
    " 'Clouds',\n",
    " 'Drizzle',\n",
    " 'Fog',\n",
    " 'Haze',\n",
    " 'Mist',\n",
    " 'Rain',\n",
    " 'Snow',\n",
    " 'Squall',\n",
    " 'Thunderstorm',\n",
    " 0,\n",
    " 1,\n",
    " 2,\n",
    " 3,\n",
    " 4,\n",
    " 5,\n",
    " 6,\n",
    " 7,\n",
    " 8,\n",
    " 9,\n",
    " 10,\n",
    " 11,\n",
    " 12,\n",
    " 13,\n",
    " 14,\n",
    " 15,\n",
    " 16,\n",
    " 17,\n",
    " 18,\n",
    " 19,\n",
    " 20,\n",
    " 21,\n",
    " 22,\n",
    " 23]\n"
   ]
  },
  {
   "cell_type": "code",
   "execution_count": 97,
   "metadata": {
    "collapsed": true
   },
   "outputs": [],
   "source": [
    "x = {1:1,3:2}\n"
   ]
  },
  {
   "cell_type": "code",
   "execution_count": 100,
   "metadata": {},
   "outputs": [
    {
     "name": "stdout",
     "output_type": "stream",
     "text": [
      "1\n",
      "2\n"
     ]
    }
   ],
   "source": [
    "for i in x:\n",
    "    print(x[i])"
   ]
  },
  {
   "cell_type": "code",
   "execution_count": 107,
   "metadata": {
    "collapsed": true
   },
   "outputs": [],
   "source": [
    "class linear_regression2(object):\n",
    "    def linear_regression():\n",
    "        print(\"hello\")"
   ]
  },
  {
   "cell_type": "code",
   "execution_count": 80,
   "metadata": {},
   "outputs": [
    {
     "name": "stderr",
     "output_type": "stream",
     "text": [
      "/Users/jialianglow/anaconda3/lib/python3.6/site-packages/sklearn/base.py:253: UserWarning: Trying to unpickle estimator LinearRegression from version 0.21.3 when using version 0.20.3. This might lead to breaking code or invalid results. Use at your own risk.\n",
      "  UserWarning)\n",
      "/Users/jialianglow/anaconda3/lib/python3.6/site-packages/sklearn/base.py:253: UserWarning: Trying to unpickle estimator StandardScaler from version 0.21.3 when using version 0.20.3. This might lead to breaking code or invalid results. Use at your own risk.\n",
      "  UserWarning)\n"
     ]
    }
   ],
   "source": [
    "import pickle\n",
    "emp = {1:\"A\",2:\"B\",3:\"C\",4:\"D\",5:\"E\"}\n",
    "with open(\"Emp.pickle\",\"wb\") as pickling_on:\n",
    "    pickle.dump(emp, pickling_on)\n",
    "\n",
    "\n",
    "with open(\"/Users/jialianglow/Dropbox/Python/traffic_data_analysis/models/output.pkl\",\"rb\") as pickling_on:\n",
    "    emp2 = pickle.load(pickling_on)"
   ]
  },
  {
   "cell_type": "code",
   "execution_count": 85,
   "metadata": {},
   "outputs": [
    {
     "data": {
      "text/plain": [
       "['holiday',\n",
       " 'temp',\n",
       " 'rain_1h',\n",
       " 'snow_1h',\n",
       " 'clouds_all',\n",
       " 'traffic_volume',\n",
       " 'Clear',\n",
       " 'Clouds',\n",
       " 'Drizzle',\n",
       " 'Fog',\n",
       " 'Haze',\n",
       " 'Mist',\n",
       " 'Rain',\n",
       " 'Snow',\n",
       " 'Squall',\n",
       " 'Thunderstorm',\n",
       " 0,\n",
       " 1,\n",
       " 2,\n",
       " 3,\n",
       " 4,\n",
       " 5,\n",
       " 6,\n",
       " 7,\n",
       " 8,\n",
       " 9,\n",
       " 10,\n",
       " 11,\n",
       " 12,\n",
       " 13,\n",
       " 14,\n",
       " 15,\n",
       " 16,\n",
       " 17,\n",
       " 18,\n",
       " 19,\n",
       " 20,\n",
       " 21,\n",
       " 22,\n",
       " 23]"
      ]
     },
     "execution_count": 85,
     "metadata": {},
     "output_type": "execute_result"
    }
   ],
   "source": [
    "emp2[\"transform\"][\"data_columns\"]"
   ]
  },
  {
   "cell_type": "code",
   "execution_count": 87,
   "metadata": {},
   "outputs": [
    {
     "data": {
      "text/plain": [
       "StandardScaler(copy=True, with_mean=True, with_std=True)"
      ]
     },
     "execution_count": 87,
     "metadata": {},
     "output_type": "execute_result"
    }
   ],
   "source": [
    "emp2[\"transform\"][\"data_columns\"]\n",
    "emp2[\"transform\"][\"standard_scalar\"]"
   ]
  },
  {
   "cell_type": "code",
   "execution_count": 92,
   "metadata": {},
   "outputs": [
    {
     "data": {
      "text/plain": [
       "LinearRegression(copy_X=True, fit_intercept=True, n_jobs=None, normalize=True)"
      ]
     },
     "execution_count": 92,
     "metadata": {},
     "output_type": "execute_result"
    }
   ],
   "source": [
    "emp2[\"model1\"][\"model\"]"
   ]
  },
  {
   "cell_type": "code",
   "execution_count": null,
   "metadata": {
    "collapsed": true
   },
   "outputs": [],
   "source": []
  }
 ],
 "metadata": {
  "kernelspec": {
   "display_name": "Python 3",
   "language": "python",
   "name": "python3"
  },
  "language_info": {
   "codemirror_mode": {
    "name": "ipython",
    "version": 3
   },
   "file_extension": ".py",
   "mimetype": "text/x-python",
   "name": "python",
   "nbconvert_exporter": "python",
   "pygments_lexer": "ipython3",
   "version": "3.6.3"
  }
 },
 "nbformat": 4,
 "nbformat_minor": 2
}
